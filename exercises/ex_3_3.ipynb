{
 "cells": [
  {
   "cell_type": "markdown",
   "metadata": {},
   "source": [
    "## 1. Keeping track of units\n",
    "\n",
    "In the code example below, a function is defined that estimates the solar rotation rate in units of deg / h. \n",
    "1. Rewrite the function such that each quantity has a unit (using `astropy.units`) attached to it. The single test at the bottom should return the same value.\n",
    "2. Using `astropy.units` functionality, write another test that returns the rotation rate at 90° in units of urad / s."
   ]
  },
  {
   "cell_type": "code",
   "execution_count": 1,
   "metadata": {},
   "outputs": [
    {
     "name": "stdout",
     "output_type": "stream",
     "text": [
      "Rotation rate at 90°: -0.1714328684161492 deg / h\n"
     ]
    }
   ],
   "source": [
    "import numpy as np\n",
    "\n",
    "\n",
    "def snodgrass_rate(lat, a0=-0.01413, a2=-0.343, a4=-0.474, \n",
    "                   plus_car_rot=False):\n",
    "    \"\"\"\n",
    "    in: solar latitude (in deg)\n",
    "    out: rotation-rate in deg/h\n",
    "    \n",
    "    If carrington rotation is desired, pass plus_car_rot=True\n",
    "    \"\"\"\n",
    "    carrington_rotation = 2.86513  # in urad/s\n",
    "    \n",
    "    lat = np.deg2rad(lat)\n",
    "    \n",
    "    if plus_car_rot is True:\n",
    "        a0 += carrington_rotation\n",
    "        \n",
    "    return np.rad2deg(a0 + a2*(np.sin(lat)**2) + a4*(np.sin(lat)**4))*1e-6*3600\n",
    "\n",
    "\n",
    "if __name__ == '__main__':\n",
    "    lat = 90\n",
    "    print('Rotation rate at 90°: %s deg / h' % snodgrass_rate(lat))"
   ]
  },
  {
   "cell_type": "code",
   "execution_count": null,
   "metadata": {},
   "outputs": [],
   "source": [
    "import numpy as np\n",
    "import astropy.units as u\n",
    "\n",
    "..."
   ]
  },
  {
   "cell_type": "markdown",
   "metadata": {},
   "source": [
    "## 2. Generating a custom SunPy map from a numpy array\n",
    "\n",
    "Follow these steps to create a custom SunPy map, starting with the array `data`:\n",
    "1. Create a `SkyCoord` instance. For the x, y coordinates, use arcseconds and place them at the origin. For the observation use the time `'2013-10-28 08:24'` and as the observer `'earth'`. As coordinate-frame, use helioprojective system (`frames.Helioprojective`).\n",
    "2. Create a header using the `sunpy.map.header_helper.make_fitswcs_header` function. As reference pixel use again the origin. The scale is 2 by 2 arcseconds per pixel. Be creative with some additional meta data (you can use your favorite instrument for example).\n",
    "3. Create the `sunpy.map.Map` instace and briefly plot it."
   ]
  },
  {
   "cell_type": "code",
   "execution_count": null,
   "metadata": {},
   "outputs": [],
   "source": [
    "%matplotlib inline\n",
    "\n",
    "import matplotlib.pyplot as plt\n",
    "import numpy as np\n",
    "import astropy.units as u\n",
    "from astropy.coordinates import SkyCoord\n",
    "import sunpy.map\n",
    "from sunpy.coordinates import frames\n",
    "\n",
    "\n",
    "data = np.arange(0, 100).reshape(10 ,10)\n",
    "\n",
    "..."
   ]
  },
  {
   "cell_type": "markdown",
   "metadata": {},
   "source": [
    "## 3. Creating a power spectrum using the TimeSeries class\n",
    "\n",
    "Follow these steps to create a custom SunPy map, starting with the array `data`:\n",
    "1. Create an `sunpy.timeseries.TimeSeries` using `data` as data.\n",
    "2. Choose the first channel (3 - 6 keV) and create a spectrum from it. You can use the function `scipy.signal.periodogram()` to estimate the spectrum (the sampling rate is 0.25 Hz).\n",
    "3. Plot the result with a logarithmic y-axis."
   ]
  },
  {
   "cell_type": "code",
   "execution_count": null,
   "metadata": {},
   "outputs": [],
   "source": [
    "import matplotlib.pyplot as plt\n",
    "from scipy import signal\n",
    "import astropy.units as u\n",
    "import sunpy.timeseries\n",
    "from sunpy.data.sample import RHESSI_TIMESERIES\n",
    "\n",
    "\n",
    "data = RHESSI_TIMESERIES\n",
    "\n",
    "..."
   ]
  }
 ],
 "metadata": {
  "kernelspec": {
   "display_name": "pyKIS",
   "language": "python",
   "name": "pykis"
  },
  "language_info": {
   "codemirror_mode": {
    "name": "ipython",
    "version": 3
   },
   "file_extension": ".py",
   "mimetype": "text/x-python",
   "name": "python",
   "nbconvert_exporter": "python",
   "pygments_lexer": "ipython3",
   "version": "3.7.6"
  }
 },
 "nbformat": 4,
 "nbformat_minor": 4
}
