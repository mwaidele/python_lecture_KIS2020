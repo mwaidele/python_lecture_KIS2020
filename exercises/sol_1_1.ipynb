{
 "cells": [
  {
   "cell_type": "markdown",
   "metadata": {},
   "source": [
    "## 1. GitLab introduction"
   ]
  },
  {
   "cell_type": "markdown",
   "metadata": {},
   "source": [
    "## 2. DataCamp\n",
    "To get you used to [DataCamp](https://learn.datacamp.com/), do the first few exercises on its introduction to python:\n",
    "\n",
    "2.1. [The python interface](https://campus.datacamp.com/courses/intro-to-python-for-data-science/chapter-1-python-basics?ex=2)\n",
    "\n",
    "2.2. [Comments](https://campus.datacamp.com/courses/intro-to-python-for-data-science/chapter-1-python-basics?ex=4)\n",
    "\n",
    "2.3. [Python as a Calculator](https://campus.datacamp.com/courses/intro-to-python-for-data-science/chapter-1-python-basics?ex=5)\n",
    "\n",
    "2.4. [Variable Assignment](https://campus.datacamp.com/courses/intro-to-python-for-data-science/chapter-1-python-basics?ex=7)\n",
    "\n",
    "2.5. [Calculations with Variables](https://campus.datacamp.com/courses/intro-to-python-for-data-science/chapter-1-python-basics?ex=8)"
   ]
  },
  {
   "cell_type": "markdown",
   "metadata": {},
   "source": [
    "## 3. First Steps"
   ]
  },
  {
   "cell_type": "markdown",
   "metadata": {},
   "source": [
    "**3.1.** Write code that prints `Hello, world!`, without directly using the letter `l` more than once (in your code)."
   ]
  },
  {
   "cell_type": "code",
   "execution_count": 1,
   "metadata": {},
   "outputs": [
    {
     "name": "stdout",
     "output_type": "stream",
     "text": [
      "Hello, world!\n"
     ]
    }
   ],
   "source": [
    "a = 'l'\n",
    "print(\"He\" + 2 * a + \"o, wor\" + a + \"d!\")"
   ]
  },
  {
   "cell_type": "markdown",
   "metadata": {},
   "source": [
    "3.2. A magician approaches you and asks you to think of any (integer) number. He then asks you to double it. Then add 10 to it, then halve it again. As a last step, subtract your original number. To your surprise, the magician already knows your new number: 5!\n",
    "\n",
    "Use python to explain the magicians trick."
   ]
  },
  {
   "cell_type": "code",
   "execution_count": 2,
   "metadata": {},
   "outputs": [
    {
     "name": "stdout",
     "output_type": "stream",
     "text": [
      "5.0\n",
      "5.0\n",
      "5.0\n"
     ]
    }
   ],
   "source": [
    "number = 42\n",
    "result = ((((number * 2) + 10) / 2) - number)\n",
    "print(result)\n",
    "\n",
    "result = number * 2/2 + 10/2 - number\n",
    "print(result)\n",
    "\n",
    "result = 10 / 2\n",
    "print(result)"
   ]
  },
  {
   "cell_type": "code",
   "execution_count": null,
   "metadata": {},
   "outputs": [],
   "source": []
  }
 ],
 "metadata": {
  "kernelspec": {
   "display_name": "pyKIS",
   "language": "python",
   "name": "pykis"
  },
  "language_info": {
   "codemirror_mode": {
    "name": "ipython",
    "version": 3
   },
   "file_extension": ".py",
   "mimetype": "text/x-python",
   "name": "python",
   "nbconvert_exporter": "python",
   "pygments_lexer": "ipython3",
   "version": "3.7.6"
  }
 },
 "nbformat": 4,
 "nbformat_minor": 4
}
