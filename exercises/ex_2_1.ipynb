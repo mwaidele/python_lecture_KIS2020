{
 "cells": [
  {
   "cell_type": "markdown",
   "metadata": {},
   "source": [
    "## 1. NumPy Array basics with DataCamp\n",
    "\n",
    "Have a look at the following DataCamp exercises, or, if you want to put in some more time, go through the [whole DataCamp chapter](https://campus.datacamp.com/courses/intro-to-python-for-data-science/chapter-4-numpy?ex=1)\n",
    "\n",
    "**1.1.** [Your First NumPy Array](https://campus.datacamp.com/courses/intro-to-python-for-data-science/chapter-4-numpy?ex=2)\n",
    "\n",
    "**1.2.** [Baseball players' height](https://campus.datacamp.com/courses/intro-to-python-for-data-science/chapter-4-numpy?ex=3)\n",
    "\n",
    "**1.3.** [Baseball player's BMI](https://campus.datacamp.com/courses/intro-to-python-for-data-science/chapter-4-numpy?ex=4)\n",
    "\n",
    "**1.4.** [Lightweight baseball players](https://campus.datacamp.com/courses/intro-to-python-for-data-science/chapter-4-numpy?ex=5)\n",
    "\n",
    "**1.5.** [Subsetting NumPy Arrays](https://campus.datacamp.com/courses/intro-to-python-for-data-science/chapter-4-numpy?ex=7)\n",
    "\n",
    "**1.6.** [Your First 2D NumPy Array](https://campus.datacamp.com/courses/intro-to-python-for-data-science/chapter-4-numpy?ex=9)\n",
    "\n",
    "**1.7.** [Baseball data in 2D form](https://campus.datacamp.com/courses/intro-to-python-for-data-science/chapter-4-numpy?ex=10)\n",
    "\n",
    "**1.8.** [Subsetting 2D NumPy Arrays](https://campus.datacamp.com/courses/intro-to-python-for-data-science/chapter-4-numpy?ex=11)\n",
    "\n",
    "**1.9.** [2D Arithmetic](https://campus.datacamp.com/courses/intro-to-python-for-data-science/chapter-4-numpy?ex=12)"
   ]
  },
  {
   "cell_type": "markdown",
   "metadata": {},
   "source": [
    "## 2. Functional array creation and manipulation\n",
    "\n",
    "Make use of `numpy.array` to create an array `a` and stepwise produce the output listed below. Try not to create `a` explicitely, but try to use `numpy`-functions:\n",
    "1. `print(a)` yields the following output:\n",
    "```\n",
    "[[0. 0. 0. 0. 0.]\n",
    " [0. 1. 1. 1. 0.]\n",
    " [0. 1. 2. 1. 0.]\n",
    " [0. 1. 1. 1. 0.]\n",
    " [0. 0. 0. 0. 0.]]\n",
    "```\n",
    "*optional:* create the above array in one line, without using `;` (some research might be required).\n",
    "2. Manipulate `a` such that `print(a)` yields the following output:\n",
    "```\n",
    "[[0. 0. 0. 0. 0.]\n",
    " [0. 3. 3. 3. 0.]\n",
    " [0. 3. 6. 3. 0.]\n",
    " [0. 3. 3. 3. 0.]\n",
    " [0. 0. 0. 0. 0.]]\n",
    "```\n",
    "3. Manipulate `a` further such that `print(a)` yields the following output:\n",
    "```\n",
    "[[0. 0. 0. 0. 0.]\n",
    " [0. 4. 3. 3. 0.]\n",
    " [0. 3. 8. 3. 0.]\n",
    " [0. 3. 3. 6. 0.]\n",
    " [0. 0. 0. 0. 4.]]\n",
    "```\n",
    "4. Manipulate `a` further such that `print(a)` yields the following output:\n",
    "```\n",
    "[[ 0.  0.  0.  0.  0.]\n",
    " [ 0.  4. -3. -3.  0.]\n",
    " [ 0.  3. -8. -3.  0.]\n",
    " [ 0.  3.  3.  6.  0.]\n",
    " [ 0.  0.  0.  0.  4.]]\n",
    "```\n",
    "5. Manipulate `a` further such that `print(a)` yields the following output:\n",
    "```\n",
    "[[ 0.  0.  0.  0.  0.]\n",
    " [ 0.  4.  3.  3.  0.]\n",
    " [ 0. -3. -8.  3.  0.]\n",
    " [ 0. -3. -3.  6.  0.]\n",
    " [ 0.  0.  0.  0.  4.]]\n",
    "```"
   ]
  },
  {
   "cell_type": "code",
   "execution_count": null,
   "metadata": {},
   "outputs": [],
   "source": [
    "import numpy as np\n",
    "\n",
    "..."
   ]
  },
  {
   "cell_type": "markdown",
   "metadata": {},
   "source": [
    "## 3. Fancy filtering\n",
    "\n",
    "Assume you have an array `f` that represents some timeseries of oscillating values. \n",
    "1. For now `f` oscillates around some offset which can be estimated by its mean value. Normalize all values in `f` by subtracting its mean value.\n",
    "2. Use a loop-approach to filter `f`. Set all values that are lesser than `-0.25` to `-0.25` (after normalizing `f`).\n",
    "3. Use fancy indexing to filter `f` and repeat (2.)\n",
    "\n",
    "Your result should yield the following output:\n",
    "```\n",
    "[ 0.35  0.85 -0.25  0.75 -0.05 -0.25 -0.25 -0.25  0.25  0.85 -0.25 -0.05]\n",
    "```"
   ]
  },
  {
   "cell_type": "code",
   "execution_count": null,
   "metadata": {},
   "outputs": [],
   "source": [
    "import numpy as np\n",
    "\n",
    "f = np.array([2.4, 2.9, 1.7, 2.8, 2.0, 1.4, 1.3, 1.7, 2.3, 2.9, 1.2, 2.0])\n",
    "print(f)"
   ]
  },
  {
   "cell_type": "markdown",
   "metadata": {},
   "source": [
    "## 4. Broadcasting the right way\n",
    "\n",
    "Using the operation `arr // div`, with `arr` and `div` as defined below will broadcast `div` such that each *row* of `arr` is (integer-)divided by `div`. Find a way (using broadcasting) to (integer-)divide each *column* of `arr` is divided by `div`.\n",
    "\n",
    "Your output should look like this:\n",
    "```\n",
    "[[0. 1. 2. 3. 4.]\n",
    " [1. 1. 1. 1. 1.]\n",
    " [1. 1. 1. 1. 1.]\n",
    " [1. 1. 1. 1. 1.]\n",
    " [1. 1. 1. 1. 1.]]\n",
    "```"
   ]
  },
  {
   "cell_type": "code",
   "execution_count": null,
   "metadata": {},
   "outputs": [],
   "source": [
    "import numpy as np\n",
    "\n",
    "arr = np.arange(25).reshape(5, 5)\n",
    "#help(arr.reshape)\n",
    "div = np.array([1., 5, 10, 15, 20])"
   ]
  }
 ],
 "metadata": {
  "kernelspec": {
   "display_name": "pyKIS",
   "language": "python",
   "name": "pykis"
  },
  "language_info": {
   "codemirror_mode": {
    "name": "ipython",
    "version": 3
   },
   "file_extension": ".py",
   "mimetype": "text/x-python",
   "name": "python",
   "nbconvert_exporter": "python",
   "pygments_lexer": "ipython3",
   "version": "3.7.6"
  }
 },
 "nbformat": 4,
 "nbformat_minor": 4
}
