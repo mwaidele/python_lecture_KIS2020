{
 "cells": [
  {
   "cell_type": "markdown",
   "metadata": {},
   "source": [
    "## 1. Types and Lists\n",
    "Start by going through the exercises on [DataCamp](https://learn.datacamp.com/):\n",
    "\n",
    "**1.1.** [Variable Types](https://campus.datacamp.com/courses/intro-to-python-for-data-science/chapter-1-python-basics?ex=9)\n",
    "\n",
    "**1.2.** [More on Types](https://campus.datacamp.com/courses/intro-to-python-for-data-science/chapter-1-python-basics?ex=11)\n",
    "\n",
    "**1.3.** [Type conversion](https://campus.datacamp.com/courses/intro-to-python-for-data-science/chapter-1-python-basics?ex=12)\n",
    "\n",
    "**1.4.** [Lists 1](https://campus.datacamp.com/courses/intro-to-python-for-data-science/chapter-2-python-lists?ex=2)\n",
    "\n",
    "**1.5.** [Lists 2](https://campus.datacamp.com/courses/intro-to-python-for-data-science/chapter-2-python-lists?ex=3)\n",
    "\n",
    "**1.6.** [Lists 3](https://campus.datacamp.com/courses/intro-to-python-for-data-science/chapter-2-python-lists?ex=5)\n",
    "\n",
    "**1.7.** [Lists 4](https://campus.datacamp.com/courses/intro-to-python-for-data-science/chapter-2-python-lists?ex=7)\n",
    "\n",
    "**1.8.** [Lists 5](https://campus.datacamp.com/courses/intro-to-python-for-data-science/chapter-2-python-lists?ex=8)\n",
    "\n",
    "**1.9.** [Lists 6](https://campus.datacamp.com/courses/intro-to-python-for-data-science/chapter-2-python-lists?ex=9)\n",
    "\n",
    "**1.10.** [Lists 7](https://campus.datacamp.com/courses/intro-to-python-for-data-science/chapter-2-python-lists?ex=10)\n",
    "\n",
    "**1.11.** [Lists 8](https://campus.datacamp.com/courses/intro-to-python-for-data-science/chapter-2-python-lists?ex=13)\n",
    "\n",
    "**1.12.** [Lists 9](https://campus.datacamp.com/courses/intro-to-python-for-data-science/chapter-2-python-lists?ex=14)\n",
    "\n",
    "**1.13.** [Lists 10](https://campus.datacamp.com/courses/intro-to-python-for-data-science/chapter-2-python-lists?ex=16)"
   ]
  },
  {
   "cell_type": "markdown",
   "metadata": {},
   "source": [
    "## 2. Control Flow and Loops"
   ]
  },
  {
   "cell_type": "markdown",
   "metadata": {},
   "source": [
    "**2.1.** [Equality](https://campus.datacamp.com/courses/intermediate-python/logic-control-flow-and-filtering?ex=2)\n",
    "\n",
    "**2.2.** [Inequality](https://campus.datacamp.com/courses/intermediate-python/logic-control-flow-and-filtering?ex=3)\n",
    "\n",
    "**2.3.** [Control flow 1](https://campus.datacamp.com/courses/intermediate-python/logic-control-flow-and-filtering?ex=6)\n",
    "\n",
    "**2.4.** [Control flow 2](https://campus.datacamp.com/courses/intermediate-python/logic-control-flow-and-filtering?ex=11)\n",
    "\n",
    "**2.5.** [Control flow 3](https://campus.datacamp.com/courses/intermediate-python/logic-control-flow-and-filtering?ex=12)\n",
    "\n",
    "**2.6.** [Control flow 4](https://campus.datacamp.com/courses/intermediate-python/logic-control-flow-and-filtering?ex=13)\n",
    "\n",
    "**2.7.** [while 1](https://campus.datacamp.com/courses/intermediate-python/loops?ex=3)\n",
    "\n",
    "**2.8.** [while 2](https://campus.datacamp.com/courses/intermediate-python/loops?ex=4)\n",
    "\n",
    "**2.9.** [for 1](https://campus.datacamp.com/courses/intermediate-python/loops?ex=6)\n",
    "\n",
    "**2.10.** [for 2](https://campus.datacamp.com/courses/intermediate-python/loops?ex=7)\n",
    "\n",
    "**2.11.** [for 3](https://campus.datacamp.com/courses/intermediate-python/loops?ex=8)\n",
    "\n",
    "**2.12.** [for 4](https://campus.datacamp.com/courses/intermediate-python/loops?ex=9)"
   ]
  },
  {
   "cell_type": "markdown",
   "metadata": {},
   "source": [
    "## 3. Nested loops"
   ]
  },
  {
   "cell_type": "markdown",
   "metadata": {},
   "source": [
    "The code below is an attempt at taking each string from `letters` and adding the character `z` to it, until the string has a length of 3. The output is expected to look like this:\n",
    "```\n",
    "['abc', 'dfz', 'azz', 'zzz', 'ret', 'nzz']\n",
    "```\n",
    "Can you correct and complete it?"
   ]
  },
  {
   "cell_type": "code",
   "execution_count": 1,
   "metadata": {},
   "outputs": [
    {
     "name": "stdout",
     "output_type": "stream",
     "text": [
      "['abc', 'dfz', 'azz', 'zzz', 'ret', 'nzz']\n"
     ]
    }
   ],
   "source": [
    "letters = ['abc', 'df', 'a', '', 'ret', 'n']\n",
    "for i, elm in enumerate(letters):\n",
    "    while len(elm) < 3:\n",
    "        elm = elm + 'z'        \n",
    "    \n",
    "    letters[i] = elm\n",
    "        \n",
    "print(letters)"
   ]
  },
  {
   "cell_type": "code",
   "execution_count": null,
   "metadata": {},
   "outputs": [],
   "source": []
  }
 ],
 "metadata": {
  "kernelspec": {
   "display_name": "pyKIS",
   "language": "python",
   "name": "pykis"
  },
  "language_info": {
   "codemirror_mode": {
    "name": "ipython",
    "version": 3
   },
   "file_extension": ".py",
   "mimetype": "text/x-python",
   "name": "python",
   "nbconvert_exporter": "python",
   "pygments_lexer": "ipython3",
   "version": "3.7.6"
  }
 },
 "nbformat": 4,
 "nbformat_minor": 4
}
