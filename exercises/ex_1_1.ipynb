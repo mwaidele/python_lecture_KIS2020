{
 "cells": [
  {
   "cell_type": "markdown",
   "metadata": {},
   "source": [
    "## 1. GitLab introduction\n",
    "Go to [our GitLab instace](https://gitlab.leibniz-kis.de/users/sign_in), choose the tab \"KIS\" and sign in your user credentials (for example for me this would be \"KIS Username\": waidele, \"Password\": <the password I'm using for example for my email>)\n",
    "\n",
    "We will learn in a simplified tutorial: How to create a new project, how to make changes to that project and finally, how to update these changes to a new version of that project."
   ]
  },
  {
   "cell_type": "markdown",
   "metadata": {},
   "source": [
    "- In your Overview page, under personal projects at the bottom, click \"New project\" (<font color='red'>1</font>).\n",
    "\n",
    "<img src=\"img/gitlab_1.png\" width=250/>\n",
    "\n",
    "- You want to create a \"Blank project\" (<font color='red'>1</font>). Enter a name (for example \"hello-world\") under \"Project name\" (<font color='red'>2</font>). The \"Project description\" is optional. Since this project is just for learning a few things, set the \"Visibility Level\" to \"Private\" (<font color='red'>3</font>). Make sure to set the checkmark to \"Initialize repository with a README\" (<font color='red'>4</font>), before clicking \"Create project\" (<font color='red'>5</font>).\n",
    "\n",
    "<img src=\"img/gitlab_2.png\" width=250/>\n",
    "\n",
    "- The following page gives you an overview of your project. As a next step, we will simulate creating a new version of your project. For that, click the README.md file (<font color='red'>1</font>).\n",
    "\n",
    "<img src=\"img/gitlab_3.png\" width=250/>\n",
    "\n",
    "- Then click the blue \"Edit\" button (<font color='red'>1</font>). GitLab comes with an integrated file editor, that can be used in your browser.\n",
    "\n",
    "<img src=\"img/gitlab_4.png\" width=250/>\n",
    "\n",
    "- Now make some changes to README.md (<font color='red'>1</font>). Click on \"Preview\" (<font color='red'>2</font>), to get a look on your updated file.\n",
    "\n",
    "<img src=\"img/gitlab_5.png\" width=250/>\n",
    "\n",
    "- Now we want to upload, or \"Commit\" these changes to our repository. Commiting is the process of releasing a new version of the project. These releases are of course always expected to come with a short and concise summary of: 1. What changes were made; 2. Why those changes were made. Write a meaningful \"Commit message\" (<font color='red'>1</font>) and click the green button \"Commit changes\" (<font color='red'>2</font>).\n",
    "\n",
    "<img src=\"img/gitlab_6.png\" width=250/>\n",
    "\n",
    "- That's it! You went through creating a new repository, to making changes to it, to releasing the changes as a new version via commiting. You can click \"History\" in the upper right (<font color='red'>1</font>) to get an overview about all older versions.\n",
    "\n",
    "<img src=\"img/gitlab_7.png\" width=250/>\n",
    "\n",
    "- Feel free to click around the Interface of GitLab a bit more to familiarize yourself with the website."
   ]
  },
  {
   "cell_type": "markdown",
   "metadata": {},
   "source": [
    "## 2. DataCamp\n",
    "To get you used to [DataCamp](https://learn.datacamp.com/), do the first few exercises on its introduction to python. First open [DataCamp](https://learn.datacamp.com/) in a new tab and sign in, then work on the exercises linked below:\n",
    "\n",
    "**2.1.** [The python interface](https://campus.datacamp.com/courses/intro-to-python-for-data-science/chapter-1-python-basics?ex=2)\n",
    "\n",
    "**2.2.** [Comments](https://campus.datacamp.com/courses/intro-to-python-for-data-science/chapter-1-python-basics?ex=4)\n",
    "\n",
    "**2.3.** [Python as a Calculator](https://campus.datacamp.com/courses/intro-to-python-for-data-science/chapter-1-python-basics?ex=5)\n",
    "\n",
    "**2.4.** [Variable Assignment](https://campus.datacamp.com/courses/intro-to-python-for-data-science/chapter-1-python-basics?ex=7)\n",
    "\n",
    "**2.5.** [Calculations with Variables](https://campus.datacamp.com/courses/intro-to-python-for-data-science/chapter-1-python-basics?ex=8)"
   ]
  },
  {
   "cell_type": "markdown",
   "metadata": {},
   "source": [
    "## 3. First Steps"
   ]
  },
  {
   "cell_type": "markdown",
   "metadata": {},
   "source": [
    "**3.1.** Write code that prints `Hello, world!`, without directly using the letter `l` more than once (in your code)."
   ]
  },
  {
   "cell_type": "code",
   "execution_count": null,
   "metadata": {},
   "outputs": [],
   "source": []
  },
  {
   "cell_type": "markdown",
   "metadata": {},
   "source": [
    "**3.2.** A magician approaches you and asks you to think of any (integer) number. He then asks you to double it. Then add 10 to it, then halve it again. As a last step, subtract your original number. To your surprise, the magician already knows your new number: 5!\n",
    "\n",
    "Use python to explain the magicians trick."
   ]
  },
  {
   "cell_type": "code",
   "execution_count": null,
   "metadata": {},
   "outputs": [],
   "source": []
  }
 ],
 "metadata": {
  "kernelspec": {
   "display_name": "pyKIS",
   "language": "python",
   "name": "pykis"
  },
  "language_info": {
   "codemirror_mode": {
    "name": "ipython",
    "version": 3
   },
   "file_extension": ".py",
   "mimetype": "text/x-python",
   "name": "python",
   "nbconvert_exporter": "python",
   "pygments_lexer": "ipython3",
   "version": "3.7.6"
  }
 },
 "nbformat": 4,
 "nbformat_minor": 4
}
