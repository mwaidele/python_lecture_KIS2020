{
 "cells": [
  {
   "cell_type": "markdown",
   "metadata": {},
   "source": [
    "## 1. Defining a 3D vector-class\n",
    "\n",
    "Implement a class `Vector` for 3 dimensional vectors.\n",
    "\n",
    "1. Each instance of `Vector` has to have one or multiple attributes that represent its 3 coordinates.\n",
    "2. When `print(Vector)` is called, have it print a formatted representation of the 3 coordinates.\n",
    "3. Implement a method `scalar_product(self, other)` that returns the scalar product of `self` and `other`.\n",
    "4. Implement a method `abs(self)` that returns the absolute value of `self`.\n",
    "5. Add the following functionality:\n",
    "* Multiplication with a scalar from the right\n",
    "* Addition with another vector\n",
    "* Subtraction of another vector\n",
    "* `cross`, which returns the result of the cross product with another vector.\n",
    "* Multiplication with either a scalar or a vector from the left (`__rmul__`). In the case of multiplication with a vector the scalar product must be returned.\n",
    "\n",
    "Test your class and all its methods using the two vectors $(1,2,3)$ and $(2,2,2)$."
   ]
  },
  {
   "cell_type": "code",
   "execution_count": 1,
   "metadata": {},
   "outputs": [
    {
     "name": "stdout",
     "output_type": "stream",
     "text": [
      "(2,4,6)\n",
      "(3,6,9)\n",
      "(3,4,5)\n",
      "(-1,0,1)\n",
      "(-2,4,-2)\n",
      "12\n"
     ]
    }
   ],
   "source": [
    "import numpy as np\n",
    "\n",
    "\n",
    "class Vector:\n",
    "    def __init__(self, coords):\n",
    "        self.coords = np.array(coords)\n",
    "    \n",
    "    def scalar_product(self, other):\n",
    "        return np.dot(self.coords, other.coords)\n",
    "    \n",
    "    def abs(self):\n",
    "        return np.sqrt(self.scalar_product(self))\n",
    "    \n",
    "    def __repr__(self):\n",
    "        return '({0},{1},{2})'.format(self.coords[0], \n",
    "                                      self.coords[1], \n",
    "                                      self.coords[2])\n",
    "    \n",
    "    def __rmul__(self, other):\n",
    "        # Use isinstance to distinguish between vector instance and scalar\n",
    "        if isinstance(other, Vector):\n",
    "            return self.scalar_product(other)\n",
    "        \n",
    "        return Vector(other * self.coords)\n",
    "    \n",
    "    def __mul__(self, scalar):\n",
    "        return self.__rmul__(scalar)\n",
    "    \n",
    "    def __add__(self, other):\n",
    "        return Vector(self.coords + other.coords)\n",
    "    \n",
    "    def __sub__(self, other):\n",
    "        return Vector(self.coords - other.coords)\n",
    "    \n",
    "    def cross_product(self, other):\n",
    "        return Vector(np.cross(self.coords, other.coords))\n",
    "\n",
    "\n",
    "# Tests\n",
    "v = Vector([1, 2, 3])\n",
    "w = Vector([2, 2, 2])\n",
    "print(2 * v)\n",
    "print(v * 3)\n",
    "print(v + w)\n",
    "print(v - w)\n",
    "print(v.cross_product(w))\n",
    "print(v * w)"
   ]
  }
 ],
 "metadata": {
  "kernelspec": {
   "display_name": "pyKIS",
   "language": "python",
   "name": "pykis"
  },
  "language_info": {
   "codemirror_mode": {
    "name": "ipython",
    "version": 3
   },
   "file_extension": ".py",
   "mimetype": "text/x-python",
   "name": "python",
   "nbconvert_exporter": "python",
   "pygments_lexer": "ipython3",
   "version": "3.7.6"
  }
 },
 "nbformat": 4,
 "nbformat_minor": 4
}
