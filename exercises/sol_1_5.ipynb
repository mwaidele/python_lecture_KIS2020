{
 "cells": [
  {
   "cell_type": "markdown",
   "metadata": {},
   "source": [
    "## 1. IO in 4 simple steps\n",
    "Using only the cell below, go to the following steps: \n",
    "\n",
    "1. declare the two variables `s1='result 1'` and `s2='result 2'`\n",
    "2. create a new file called `io.txt` and write both values of `s1` and `s2` into the file. Don't forget to close the file(-stream)\n",
    "3. open the file once more, read out the values of `s1` and `s2` and store them in the new variables `res1` and `res2`\n",
    "4. write a `print`-statement comparing `s1, s2` and `res1, res2` (they should be identical)"
   ]
  },
  {
   "cell_type": "code",
   "execution_count": 1,
   "metadata": {},
   "outputs": [
    {
     "name": "stdout",
     "output_type": "stream",
     "text": [
      "v1 = result 1 v2 = result 2\n",
      "v1 = result 1 v2 = result 2\n"
     ]
    }
   ],
   "source": [
    "s1, s2 = 'result 1', 'result 2'\n",
    "with open('io.txt', 'w') as f:\n",
    "    f.write(s1 + ',' + s2)\n",
    "\n",
    "with open('io.txt', 'r') as f:\n",
    "    res1, res2 = f.read().split(',')\n",
    "\n",
    "print('v1 = ', s1, ' v2 = ', s2, '\\n', 'v1 = ', res1, ' v2 = ', \n",
    "      res2, sep='')"
   ]
  },
  {
   "cell_type": "markdown",
   "metadata": {},
   "source": [
    "## 2. Intro to OOP from DataCamp\n",
    "DataCamp has a very nice course on classes, instances, attributes and methods. [Try to go through the whole thing](https://campus.datacamp.com/courses/object-oriented-programming-in-python/deep-dive-into-classes-and-objects?ex=1)"
   ]
  },
  {
   "cell_type": "markdown",
   "metadata": {},
   "source": [
    "### 3. More on OOP\n",
    "Review the final version of our `cargo`-class from the lecture:\n",
    "```python\n",
    "class cargo():\n",
    "    def __init__(self, load='bananas'):\n",
    "        self.load = [load, ]\n",
    "    \n",
    "    def add_load(self, new_load):\n",
    "        self.load = self.load + [new_load, ]\n",
    "    \n",
    "    def ship_load(self, old_load):\n",
    "        if old_load in self.load:\n",
    "            self.load.remove(old_load)\n",
    "\n",
    "\n",
    "class land(cargo):\n",
    "    def __repr__(self):\n",
    "        return 'Cargo in truck. Current load: %s' % self.load\n",
    "\n",
    "\n",
    "class air(cargo):\n",
    "    def __repr__(self):\n",
    "        return 'Cargo in plane. Current load: %s' % self.load\n",
    "```\n",
    "Handling commision would be easier if every type of cargo had a value attached to it. Instead of lists, introduce distionaries to classify cargo:\n",
    "1. Assume that `load` is by default an empty dictionary. Rewrite all methods accordingly. The method `ship_load()` should then no longer remove an item, but set its value to `0`.\n",
    "2. As a test, create an Instance `truck` and add 20 bananas and 20 apples to its load. Then ship all apples via `ship_load()`\n",
    "3. Implement a method `commission()` that prints a warning if any value in `load` is `0`. Test it on `truck`."
   ]
  },
  {
   "cell_type": "code",
   "execution_count": 2,
   "metadata": {},
   "outputs": [
    {
     "name": "stdout",
     "output_type": "stream",
     "text": [
      "Cargo in truck. Current load: {'bananas': 20, 'apples': 20}\n",
      "Cargo in truck. Current load: {'bananas': 20, 'apples': 0}\n",
      "Low supply of apples : Cargo in truck. Current load: {'bananas': 20, 'apples': 0}\n"
     ]
    }
   ],
   "source": [
    "class cargo():\n",
    "    def __init__(self):\n",
    "        self.load = {}\n",
    "\n",
    "    def add_load(self, new_load, value):\n",
    "        self.load[new_load] = value\n",
    "\n",
    "    def ship_load(self, old_load, value=0):\n",
    "        self.load[old_load] = value\n",
    "    \n",
    "    def commission(self):\n",
    "        for item, value in zip(self.load.keys(), self.load.values()):\n",
    "            if value == 0:\n",
    "                print('Low supply of', item, ':', self)\n",
    "\n",
    "\n",
    "class land(cargo):\n",
    "    def __repr__(self):\n",
    "        return 'Cargo in truck. Current load: %s' % self.load\n",
    "\n",
    "\n",
    "class air(cargo):\n",
    "    def __repr__(self):\n",
    "        return 'Cargo in plane. Current load: %s' % self.load\n",
    "\n",
    "\n",
    "truck = land()\n",
    "truck.add_load('bananas', 20), truck.add_load('apples', 20)\n",
    "print(truck)\n",
    "\n",
    "truck.ship_load('apples')\n",
    "print(truck)\n",
    "\n",
    "truck.commission()"
   ]
  },
  {
   "cell_type": "code",
   "execution_count": null,
   "metadata": {},
   "outputs": [],
   "source": []
  }
 ],
 "metadata": {
  "kernelspec": {
   "display_name": "pyKIS",
   "language": "python",
   "name": "pykis"
  },
  "language_info": {
   "codemirror_mode": {
    "name": "ipython",
    "version": 3
   },
   "file_extension": ".py",
   "mimetype": "text/x-python",
   "name": "python",
   "nbconvert_exporter": "python",
   "pygments_lexer": "ipython3",
   "version": "3.7.6"
  }
 },
 "nbformat": 4,
 "nbformat_minor": 4
}
