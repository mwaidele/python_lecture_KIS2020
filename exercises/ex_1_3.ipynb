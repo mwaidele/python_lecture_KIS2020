{
 "cells": [
  {
   "cell_type": "markdown",
   "metadata": {},
   "source": [
    "## 1. Functions and Methods\n",
    "Have a look at the exercises on [DataCamp](https://learn.datacamp.com/):\n",
    "\n",
    "**1.1.** [Builtin functions](https://campus.datacamp.com/courses/intro-to-python-for-data-science/chapter-3-functions-and-packages?ex=2)\n",
    "\n",
    "**1.2.** [Multiple Arguments](https://campus.datacamp.com/courses/intro-to-python-for-data-science/chapter-3-functions-and-packages?ex=4)\n",
    "\n",
    "**1.3.** [String Methods](https://campus.datacamp.com/courses/intro-to-python-for-data-science/chapter-3-functions-and-packages?ex=6)\n",
    "\n",
    "**1.4.** [List Methods](https://campus.datacamp.com/courses/intro-to-python-for-data-science/chapter-3-functions-and-packages?ex=7)\n",
    "\n",
    "**1.5.** [List Methods](https://campus.datacamp.com/courses/intro-to-python-for-data-science/chapter-3-functions-and-packages?ex=8)"
   ]
  },
  {
   "cell_type": "markdown",
   "metadata": {},
   "source": [
    "## 2. Control flow within a function"
   ]
  },
  {
   "cell_type": "markdown",
   "metadata": {},
   "source": [
    "A [leap year](https://en.wikipedia.org/wiki/Leap_year) contains one additional day and occurs every 4 years. Years that are evenly divisble by 100 are not leap years, except years that are evely divisible by 400 (which are leap years).\n",
    "\n",
    "Write a function `leap_year(n)`, that takes an integer `n` which represents the year, and returns `True` if `n` is a leap year and `False` if not. Test your function with the following years: `1600, 2020, 5, 2015, 2100`"
   ]
  },
  {
   "cell_type": "code",
   "execution_count": null,
   "metadata": {},
   "outputs": [],
   "source": [
    "def leap_year(n):\n",
    "    ..."
   ]
  },
  {
   "cell_type": "markdown",
   "metadata": {},
   "source": [
    "## 3. Calling a function within a loop"
   ]
  },
  {
   "cell_type": "markdown",
   "metadata": {},
   "source": [
    "Assume you have the three lists `cargo`, `actual` and `nominal` as defined in the cell below. \n",
    "\n",
    "First, write a function `commission` with three arguments `cargo`, `actual` and `nominal` that prints the cargo, determines the difference between actual and nominal values and then prints and returns the result.\n",
    "\n",
    "Now write a `for`-loop, that iterates over the three lists and calls the function in each iteration.\n",
    "\n",
    "Lastly, include a keyword-argument `warn` with the default `False`, that prints a short warning, only if the difference between actual and nominal is greater than 25, and if `warn` is `True`. Then, rerun the loop, with `warn=True`."
   ]
  },
  {
   "cell_type": "code",
   "execution_count": null,
   "metadata": {},
   "outputs": [],
   "source": [
    "cargo = ['bananas', 'apples', 'milk']\n",
    "actual = [24, 24, 12]\n",
    "nominal = [4, 52, 0]\n",
    "\n",
    "def commission(cargo, actual, nominal, warn=False):\n",
    "    ..."
   ]
  }
 ],
 "metadata": {
  "kernelspec": {
   "display_name": "pyKIS",
   "language": "python",
   "name": "pykis"
  },
  "language_info": {
   "codemirror_mode": {
    "name": "ipython",
    "version": 3
   },
   "file_extension": ".py",
   "mimetype": "text/x-python",
   "name": "python",
   "nbconvert_exporter": "python",
   "pygments_lexer": "ipython3",
   "version": "3.7.6"
  }
 },
 "nbformat": 4,
 "nbformat_minor": 4
}
