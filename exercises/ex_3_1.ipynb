{
 "cells": [
  {
   "cell_type": "markdown",
   "metadata": {},
   "source": [
    "## 1. Defining a 3D vector-class\n",
    "\n",
    "Implement a class `Vector` for 3 dimensional vectors.\n",
    "\n",
    "1. Each instance of `Vector` has to have one or multiple attributes that represent its 3 coordinates.\n",
    "2. When `print(Vector)` is called, have it print a formatted representation of the 3 coordinates.\n",
    "3. Implement a method `scalar_product(self, other)` that returns the scalar product of `self` and `other`.\n",
    "4. Implement a method `abs(self)` that returns the absolute value of `self`.\n",
    "5. Add the following functionality:\n",
    "* Multiplication with a scalar from the right\n",
    "* Addition with another vector\n",
    "* Subtraction of another vector\n",
    "* `cross`, which returns the result of the cross product with another vector.\n",
    "* Multiplication with either a scalar or a vector from the left (`__rmul__`). In the case of multiplication with a vector the scalar product must be returned.\n",
    "\n",
    "Test your class and all its methods using the two vectors $(1,2,3)$ and $(2,2,2)$."
   ]
  },
  {
   "cell_type": "code",
   "execution_count": null,
   "metadata": {},
   "outputs": [],
   "source": [
    "import numpy as np\n",
    "\n",
    "\n",
    "class Vector:\n",
    "    ..."
   ]
  }
 ],
 "metadata": {
  "kernelspec": {
   "display_name": "pyKIS",
   "language": "python",
   "name": "pykis"
  },
  "language_info": {
   "codemirror_mode": {
    "name": "ipython",
    "version": 3
   },
   "file_extension": ".py",
   "mimetype": "text/x-python",
   "name": "python",
   "nbconvert_exporter": "python",
   "pygments_lexer": "ipython3",
   "version": "3.7.6"
  }
 },
 "nbformat": 4,
 "nbformat_minor": 4
}
