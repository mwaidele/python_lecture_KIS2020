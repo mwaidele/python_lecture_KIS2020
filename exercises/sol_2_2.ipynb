{
 "cells": [
  {
   "cell_type": "markdown",
   "metadata": {},
   "source": [
    "## 1. Filtering via broadcasting\n",
    "\n",
    "Assume you have a series of sequences `S` as defined below. \n",
    "1. First work with the very first sequence `S[0]`. Create a sequence `m`, that filters (or masks) out the first 2 and last 2 elements of `S[0]`, setting them equal `np.nan`.\n",
    "2. Using broadcasting, apply `m` to all sequences in the series `S`."
   ]
  },
  {
   "cell_type": "code",
   "execution_count": 1,
   "metadata": {},
   "outputs": [
    {
     "name": "stdout",
     "output_type": "stream",
     "text": [
      "[ 0  1  2  3  4  5  6  7  8  9 10 11 12 13 14 15 16 17 18 19 20 21 22 23\n",
      " 24]\n",
      "[nan nan  2.  3.  4.  5.  6.  7.  8.  9. 10. 11. 12. 13. 14. 15. 16. 17.\n",
      " 18. 19. 20. 21. 22. nan nan]\n",
      "[nan nan 27. 28. 29. 30. 31. 32. 33. 34. 35. 36. 37. 38. 39. 40. 41. 42.\n",
      " 43. 44. 45. 46. 47. nan nan]\n"
     ]
    }
   ],
   "source": [
    "import numpy as np\n",
    "\n",
    "S = np.arange(0, 250).reshape(10, 25)\n",
    "\n",
    "# 1.\n",
    "print(S[0])\n",
    "\n",
    "m = np.ones(S[0].shape)\n",
    "m[:2] = np.nan\n",
    "m[-2:] = np.nan\n",
    "\n",
    "Sm0 = S[0] * m\n",
    "print(Sm0)\n",
    "\n",
    "# 2.\n",
    "Sm = S * m\n",
    "print(Sm[1])"
   ]
  },
  {
   "cell_type": "markdown",
   "metadata": {},
   "source": [
    "## 2. Matrix operations\n",
    "\n",
    "Two matrices commutate if:\n",
    "\n",
    "$$AB = BA \\Leftrightarrow AB - BA = 0$$\n",
    "\n",
    "Write a function `commutate(A, B)` that checks if `A` and `B` commutate. Test your function on the following three matrices:\n",
    "\n",
    "$$\n",
    "M_1=\\left(\\begin{array}{cc}\n",
    "-2 & 0 & 0\\\\\n",
    "0 & -2 & 0\\\\\n",
    "0 & 0 & -2\n",
    "\\end{array}\\right),\\quad\n",
    "M_2=\\left(\\begin{array}{cc}\n",
    "2 & 0 & 0\\\\\n",
    "0 & 12 & 0\\\\\n",
    "0 & 0 & 72\n",
    "\\end{array}\\right),\\quad\n",
    "M_3=\\left(\\begin{array}{cc}\n",
    "0 & 4 & 0\\\\\n",
    "2 & 0 & 2\\\\\n",
    "0 & 4 & 0\n",
    "\\end{array}\\right)\n",
    "$$"
   ]
  },
  {
   "cell_type": "code",
   "execution_count": 2,
   "metadata": {},
   "outputs": [
    {
     "name": "stdout",
     "output_type": "stream",
     "text": [
      "m1 commutates with m2: True\n",
      "m1 commutates with m3: True\n",
      "m2 commutates with m3: False\n"
     ]
    }
   ],
   "source": [
    "import numpy as np\n",
    "\n",
    "def commutate(A, B):\n",
    "    return np.all(np.dot(A, B) - np.dot(B, A) == 0)\n",
    "\n",
    "m1 = -2 * np.diag([1, 1, 1])\n",
    "m2 = np.diag([2, 12 ,72])\n",
    "m3 = np.array([[0, 4, 0], \n",
    "               [2, 0, 2], \n",
    "               [0, 4, 0]])\n",
    "\n",
    "print('m1 commutates with m2:', commutate(m1, m2))\n",
    "print('m1 commutates with m3:', commutate(m1, m3))\n",
    "print('m2 commutates with m3:', commutate(m2, m3))"
   ]
  },
  {
   "cell_type": "markdown",
   "metadata": {},
   "source": [
    "## 3. Filtering in frequency space\n",
    "\n",
    "Assume again you have an array `f` that represents some timeseries of oscillating values and an array `t` as according time samples (cadence is 1 second). From `scipy` import `fftpack` and do the following:\n",
    "1. Calculate the Fourier-transform of `f` and store it in `F`.\n",
    "2. Calculate the frequency samples and store it in `nu`.\n",
    "3. Set all values in `F` that accord to `abs(nu) < 0.15` (Hertz) equal `0`.\n",
    "4. Calculate the inverse Fourier-transform of `F` and store it in `fF`."
   ]
  },
  {
   "cell_type": "code",
   "execution_count": 3,
   "metadata": {},
   "outputs": [
    {
     "name": "stdout",
     "output_type": "stream",
     "text": [
      "[2.4 2.9 1.7 2.8 2.  1.4 1.3 1.7 2.3 2.9 1.2 2. ]\n"
     ]
    }
   ],
   "source": [
    "import numpy as np\n",
    "from scipy import fftpack\n",
    "\n",
    "f = np.array([2.4, 2.9, 1.7, 2.8, 2.0, 1.4, 1.3, 1.7, 2.3, 2.9, 1.2, 2.0])\n",
    "print(f)\n",
    "t = np.linspace(0, 1*len(f), len(f))\n",
    "\n",
    "# 1 & 2\n",
    "F = fftpack.fft(f)\n",
    "nu = fftpack.fftfreq(len(f), d=1)\n",
    "\n",
    "# 3\n",
    "F[abs(nu) < 0.15] = 0\n",
    "\n",
    "# 4\n",
    "Ff = fftpack.ifft(F)"
   ]
  },
  {
   "cell_type": "code",
   "execution_count": null,
   "metadata": {},
   "outputs": [],
   "source": []
  }
 ],
 "metadata": {
  "kernelspec": {
   "display_name": "pyKIS",
   "language": "python",
   "name": "pykis"
  },
  "language_info": {
   "codemirror_mode": {
    "name": "ipython",
    "version": 3
   },
   "file_extension": ".py",
   "mimetype": "text/x-python",
   "name": "python",
   "nbconvert_exporter": "python",
   "pygments_lexer": "ipython3",
   "version": "3.7.6"
  }
 },
 "nbformat": 4,
 "nbformat_minor": 4
}
