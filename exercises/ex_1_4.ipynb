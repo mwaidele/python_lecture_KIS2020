{
 "cells": [
  {
   "cell_type": "markdown",
   "metadata": {},
   "source": [
    "## 1. Writing your first script\n",
    "Remember the function `commission()`? In this exercise you will learn how to port it to a script and make it run, just like it was running in a jupyter notebook cell (you can either use your own function, or the one that is pasted here).\n",
    "```python\n",
    "cargo = ['bananas', 'apples', 'milk']\n",
    "actual = [24, 24, 12]\n",
    "nominal = [4, 52, 0]\n",
    "\n",
    "def commission(cargo, actual, nominal, warn=False):\n",
    "    diff = abs(actual - nominal)\n",
    "    print('Cargo is ', cargo, ', diff = ', diff, sep='')\n",
    "    \n",
    "    if (diff > 25) and (warn == True):\n",
    "        print('Warning: Low supply.')\n",
    "    \n",
    "    return diff\n",
    "\n",
    "\n",
    "for c, a, n in zip(cargo, actual, nominal):\n",
    "    diff = commission(c, a, n, warn=True)\n",
    "```\n",
    "1. In your jupyter overview tab, click New -> Other -> Text File to create a new file, within the current directory. Then at the top of the page, click the files name (which is \"untitled.txt\" by default). Rename it to \"commission_cargo.py\".\n",
    "2. Copy your code into the file.\n",
    "3. Run the script in the cell below."
   ]
  },
  {
   "cell_type": "code",
   "execution_count": null,
   "metadata": {},
   "outputs": [],
   "source": [
    "%run ..."
   ]
  },
  {
   "cell_type": "markdown",
   "metadata": {},
   "source": [
    "## 2. A few DataCamp exercises\n",
    "Have a look at the exercises on [DataCamp](https://learn.datacamp.com/):\n",
    "\n",
    "**1.1.** [Import a package 1](https://campus.datacamp.com/courses/intro-to-python-for-data-science/chapter-3-functions-and-packages?ex=10)\n",
    "\n",
    "**1.2.** [Import a package 2](https://campus.datacamp.com/courses/intro-to-python-for-data-science/chapter-3-functions-and-packages?ex=11)\n",
    "\n",
    "**1.3.** [Splitting a function](https://campus.datacamp.com/courses/writing-functions-in-python/best-practices?ex=7)\n",
    "\n",
    "There's a lot more exercises, over at [python-data-science-toolbox-part-1](https://learn.datacamp.com/courses/python-data-science-toolbox-part-1): If you're motivated, go through the whole thing."
   ]
  },
  {
   "cell_type": "markdown",
   "metadata": {},
   "source": [
    "## 3. Writing your first module\n",
    "Reuse the code for your function `commission` and make a module out of it.\n",
    "\n",
    " 1. Reset your namespace by using `%reset -f`. To make each step more clear, keep resetting everytime you run a cell\n",
    "- 1.1. run `commission_cargo.py` again\n",
    "- 1.2. import the module `commission_cargo`, without changing the file `commission_cargo.py`\n",
    "- 1.3. From `commission_cargo` import explicitely only the function `commission()`\n",
    "- 1.4. Do a *-import from `commission_cargo`\n",
    "- 1.5. Looking at your namespace, what is the difference between all the different ways to import the file?\n",
    "\n",
    " 2. Use the notation `if __name__ == '__main__':` within the file `commission_cargo.py`, and write all declarations and calls in the `if`-block.\n",
    "- 2.1. With the now new file, do all of the above again\n",
    "- 2.2. In general, which way of importing is the best?"
   ]
  },
  {
   "cell_type": "code",
   "execution_count": null,
   "metadata": {},
   "outputs": [],
   "source": [
    "%reset -f\n",
    "%run ..."
   ]
  },
  {
   "cell_type": "code",
   "execution_count": null,
   "metadata": {},
   "outputs": [],
   "source": [
    "%reset -f\n",
    "import ..."
   ]
  },
  {
   "cell_type": "code",
   "execution_count": null,
   "metadata": {},
   "outputs": [],
   "source": [
    "%reset -f\n",
    "from ... import ..."
   ]
  },
  {
   "cell_type": "code",
   "execution_count": null,
   "metadata": {},
   "outputs": [],
   "source": [
    "%reset -f \n",
    "from ... import *"
   ]
  },
  {
   "cell_type": "code",
   "execution_count": null,
   "metadata": {},
   "outputs": [],
   "source": [
    "%reset -f\n",
    "%run ..."
   ]
  },
  {
   "cell_type": "code",
   "execution_count": null,
   "metadata": {},
   "outputs": [],
   "source": [
    "%reset -f\n",
    "import ..."
   ]
  },
  {
   "cell_type": "code",
   "execution_count": null,
   "metadata": {},
   "outputs": [],
   "source": [
    "%reset -f\n",
    "from ..."
   ]
  },
  {
   "cell_type": "code",
   "execution_count": null,
   "metadata": {},
   "outputs": [],
   "source": [
    "%reset -f \n",
    "from ... import *"
   ]
  },
  {
   "cell_type": "markdown",
   "metadata": {},
   "source": [
    "## 4. Good practises\n",
    "Have a look at the following code:\n",
    "```python\n",
    "a='melons'\n",
    "b=0\n",
    "c=1\n",
    "def f(x):\n",
    "    x=x + 10\n",
    "    return x\n",
    "from commission_cargo import *\n",
    "d=commission(a,f(b),c,False)\n",
    "```\n",
    "It defines an actual value of `1` melon, and defines the nominal value as `0`. Then a function is defined that adds `10` to, in this case, the nominal value. The function `commission()` is called after importing it.\n",
    "1. Port the code into a script called melons.py (similar to exercise 1.) and run it\n",
    "2. In the cell below, `pycodestyle` is used to list some of the issues with the code. Go through them and try to adapt the script and execute the cell again until 0 issues are found\n",
    "3. Replace all variable and function names with meaningful ones and comment the code. Afterwards, compare your new code with the old version above and convince yourself how much more readable the new version is"
   ]
  },
  {
   "cell_type": "code",
   "execution_count": null,
   "metadata": {},
   "outputs": [],
   "source": [
    "%run ..."
   ]
  },
  {
   "cell_type": "code",
   "execution_count": null,
   "metadata": {},
   "outputs": [],
   "source": [
    "from pycodestyle import Checker as pch\n",
    "\n",
    "c = pch('melons.py')\n",
    "E = c.check_all()\n",
    "print(\"Total of\", E, \"issues found.\")"
   ]
  }
 ],
 "metadata": {
  "kernelspec": {
   "display_name": "pyKIS",
   "language": "python",
   "name": "pykis"
  },
  "language_info": {
   "codemirror_mode": {
    "name": "ipython",
    "version": 3
   },
   "file_extension": ".py",
   "mimetype": "text/x-python",
   "name": "python",
   "nbconvert_exporter": "python",
   "pygments_lexer": "ipython3",
   "version": "3.7.6"
  }
 },
 "nbformat": 4,
 "nbformat_minor": 4
}
