{
 "cells": [
  {
   "cell_type": "markdown",
   "metadata": {},
   "source": [
    "## 1. Debugging with `pdb`\n",
    "\n",
    "Have a look at the code below, it has a short docstring at the top, describing what it is supposed to do. However there are 2 bugs hidden in there. Use `%debug` (at best post mortem) to try to find the bugs. Then fix them (without changing the `#definitions and data-creation` block)."
   ]
  },
  {
   "cell_type": "code",
   "execution_count": 1,
   "metadata": {},
   "outputs": [
    {
     "ename": "TypeError",
     "evalue": "'Series' object is not callable",
     "output_type": "error",
     "traceback": [
      "\u001b[0;31m---------------------------------------------------------------------------\u001b[0m",
      "\u001b[0;31mTypeError\u001b[0m                                 Traceback (most recent call last)",
      "\u001b[0;32m<ipython-input-1-40ebe192d334>\u001b[0m in \u001b[0;36m<module>\u001b[0;34m\u001b[0m\n\u001b[1;32m     43\u001b[0m \u001b[0;34m\u001b[0m\u001b[0m\n\u001b[1;32m     44\u001b[0m \u001b[0;31m# Calculations\u001b[0m\u001b[0;34m\u001b[0m\u001b[0;34m\u001b[0m\u001b[0;34m\u001b[0m\u001b[0m\n\u001b[0;32m---> 45\u001b[0;31m \u001b[0mcos_shift\u001b[0m \u001b[0;34m=\u001b[0m \u001b[0mshift\u001b[0m\u001b[0;34m(\u001b[0m\u001b[0msignal\u001b[0m\u001b[0;34m.\u001b[0m\u001b[0mtime\u001b[0m\u001b[0;34m,\u001b[0m \u001b[0msignal\u001b[0m\u001b[0;34m.\u001b[0m\u001b[0mcos\u001b[0m\u001b[0;34m,\u001b[0m \u001b[0mshift\u001b[0m\u001b[0;34m=\u001b[0m\u001b[0mnp\u001b[0m\u001b[0;34m.\u001b[0m\u001b[0mpi\u001b[0m\u001b[0;34m/\u001b[0m\u001b[0;36m2\u001b[0m\u001b[0;34m)\u001b[0m\u001b[0;34m\u001b[0m\u001b[0;34m\u001b[0m\u001b[0m\n\u001b[0m\u001b[1;32m     46\u001b[0m \u001b[0mcos_plus_sin\u001b[0m \u001b[0;34m=\u001b[0m \u001b[0msuperposition\u001b[0m\u001b[0;34m(\u001b[0m\u001b[0msignal\u001b[0m\u001b[0;34m.\u001b[0m\u001b[0msin\u001b[0m\u001b[0;34m,\u001b[0m \u001b[0mcos_shift\u001b[0m\u001b[0;34m)\u001b[0m\u001b[0;34m\u001b[0m\u001b[0;34m\u001b[0m\u001b[0m\n\u001b[1;32m     47\u001b[0m \u001b[0;34m\u001b[0m\u001b[0m\n",
      "\u001b[0;32m<ipython-input-1-40ebe192d334>\u001b[0m in \u001b[0;36mshift\u001b[0;34m(t, func, shift)\u001b[0m\n\u001b[1;32m     20\u001b[0m     \u001b[0mx\u001b[0m\u001b[0;34m,\u001b[0m \u001b[0my\u001b[0m \u001b[0;34m=\u001b[0m \u001b[0mt\u001b[0m\u001b[0;34m,\u001b[0m \u001b[0mfunc\u001b[0m\u001b[0;34m\u001b[0m\u001b[0;34m\u001b[0m\u001b[0m\n\u001b[1;32m     21\u001b[0m \u001b[0;34m\u001b[0m\u001b[0m\n\u001b[0;32m---> 22\u001b[0;31m     \u001b[0;32mreturn\u001b[0m \u001b[0my\u001b[0m\u001b[0;34m(\u001b[0m\u001b[0mx\u001b[0m \u001b[0;34m+\u001b[0m \u001b[0mshift\u001b[0m\u001b[0;34m)\u001b[0m\u001b[0;34m\u001b[0m\u001b[0;34m\u001b[0m\u001b[0m\n\u001b[0m\u001b[1;32m     23\u001b[0m \u001b[0;34m\u001b[0m\u001b[0m\n\u001b[1;32m     24\u001b[0m \u001b[0;34m\u001b[0m\u001b[0m\n",
      "\u001b[0;31mTypeError\u001b[0m: 'Series' object is not callable"
     ]
    }
   ],
   "source": [
    "\"\"\"\n",
    "This code initializes a DataFrame that holds a time axis t and \n",
    "sin(t), cos(t) as data in its columns. It then uses the two functions \n",
    "shift() and superposition() to shift cos(t) by pi/2 and add it to \n",
    "sin(t), which should result in 0 for all t.\n",
    "\n",
    "The result is plotted.\n",
    "\"\"\"\n",
    "\n",
    "import numpy as np\n",
    "import pandas as pd\n",
    "\n",
    "\n",
    "def shift(t, func, shift=0):\n",
    "    \"\"\"\n",
    "    Takes x, y (t, func) and returns y(t + shift).\n",
    "    t: array-like or series\n",
    "    f: function-object\n",
    "    \"\"\"\n",
    "    x, y = t, func\n",
    "    \n",
    "    return y(x + shift)\n",
    "\n",
    "\n",
    "def superposition(data_1, data_2):\n",
    "    \"\"\"\n",
    "    Takes y1, y2 (data_1, data_2) and returns y1 + y2\n",
    "    y1: array-like or series\n",
    "    y2: array-like or series\n",
    "    \"\"\"\n",
    "    y1, y2 = data_1, data_1\n",
    "    \n",
    "    return y1 + y2\n",
    "\n",
    "\n",
    "# definitions and data-creation\n",
    "n = 11\n",
    "t = np.linspace(0, 1, n)  # time-axis\n",
    "data = np.array([t, np.sin(t), np.cos(t)]).T  # (rows, columns) = (n, 3)\n",
    "labels = ['time', 'sin', 'cos']\n",
    "\n",
    "signal = pd.DataFrame(data, columns=labels)\n",
    "\n",
    "# Calculations\n",
    "cos_shift = shift(signal.time, signal.cos, shift=np.pi/2)\n",
    "cos_plus_sin = superposition(signal.sin, cos_shift)\n",
    "\n",
    "# Plotting\n",
    "ax = cos_plus_sin.round().plot(label='Result')\n",
    "\n",
    "# Plotting of expected result\n",
    "ax.plot(np.zeros(n), 'r--', label='Expectation')\n",
    "ax.legend()"
   ]
  },
  {
   "cell_type": "code",
   "execution_count": null,
   "metadata": {},
   "outputs": [],
   "source": [
    "%debug"
   ]
  },
  {
   "cell_type": "code",
   "execution_count": 3,
   "metadata": {},
   "outputs": [
    {
     "data": {
      "text/plain": [
       "<matplotlib.legend.Legend at 0x7f5e9e5237d0>"
      ]
     },
     "execution_count": 3,
     "metadata": {},
     "output_type": "execute_result"
    },
    {
     "data": {
      "image/png": "[encoded data removed]",
      "text/plain": [
       "<Figure size 432x288 with 1 Axes>"
      ]
     },
     "metadata": {
      "needs_background": "light"
     },
     "output_type": "display_data"
    }
   ],
   "source": [
    "def superposition(data_1, data_2):\n",
    "    y1, y2 = data_1, data_2\n",
    "    \n",
    "    return y1 + y2\n",
    "\n",
    "# Calculations\n",
    "cos_shift = shift(signal.time, np.cos, shift=np.pi/2)\n",
    "cos_plus_sin = superposition(signal.sin, cos_shift)\n",
    "\n",
    "# Plotting\n",
    "ax = cos_plus_sin.round().plot(label='Result')\n",
    "\n",
    "# Plotting of expected result\n",
    "ax.plot(np.zeros(n), 'r--', label='Expectation')\n",
    "ax.legend()"
   ]
  },
  {
   "cell_type": "markdown",
   "metadata": {},
   "source": [
    "## 2. Profiling and Optimization\n",
    "\n",
    "Have a look at the code below. Don't worry about what the results mean, as they're only there for demonstration.\n",
    "1. Profile the code. Try to find the bottlenecks and narrow the down to one single line.\n",
    "2. Optimize the code (without changing the #definitions and data-creation block)."
   ]
  },
  {
   "cell_type": "code",
   "execution_count": 4,
   "metadata": {},
   "outputs": [
    {
     "name": "stdout",
     "output_type": "stream",
     "text": [
      "773.5789408050574 0.8414353073525439 0.4596782034491702\n"
     ]
    }
   ],
   "source": [
    "import numpy as np\n",
    "import pandas as pd\n",
    "\n",
    "\n",
    "def dot(data_1, data_2):\n",
    "    \"\"\"\n",
    "    Takes y1, y2 (data_1, data_2) and calculates the dot product\n",
    "    (scalar product).\n",
    "    y1: array-like or series\n",
    "    y2: array-like or series\n",
    "    \"\"\"\n",
    "    y1, y2 = data_1, data_2\n",
    "    \n",
    "    res = 0\n",
    "    for e1, e2 in zip(y1, y2):\n",
    "        res = res + (e1 * e2)\n",
    "    \n",
    "    return res\n",
    "\n",
    "\n",
    "def mean(n, data):\n",
    "    \"\"\"\n",
    "    Takes n, y (n, data) and calculates data mean value.\n",
    "    n: int\n",
    "    y: array-like or series\n",
    "    \"\"\"\n",
    "    res = 0\n",
    "    \n",
    "    for e in data:\n",
    "        res = res + e\n",
    "    \n",
    "    return res / n\n",
    "\n",
    "\n",
    "# definitions and data-creation\n",
    "n = 2000\n",
    "t = np.linspace(0, 1, n)  # time-axis\n",
    "data = np.array([t, np.sin(t), np.cos(t)]).T  # (rows, columns) = (n, 3)\n",
    "labels = ['time', 'sin', 'cos']\n",
    "\n",
    "signal = pd.DataFrame(data, columns=labels)\n",
    "\n",
    "# Calculations\n",
    "dot_res = dot(signal.sin, signal.cos) / n\n",
    "cos_mean_res = mean(n, signal.cos)\n",
    "sin_mean_res = mean(n, signal.sin)\n",
    "\n",
    "# Compare results\n",
    "print(dot_res, cos_mean_res, sin_mean_res)"
   ]
  },
  {
   "cell_type": "code",
   "execution_count": 5,
   "metadata": {},
   "outputs": [
    {
     "name": "stdout",
     "output_type": "stream",
     "text": [
      "773.5789408050574 0.8414353073525439 0.4596782034491702\n",
      "0.3728122259999509 0.00023484400117013138 0.00020616499932657462\n"
     ]
    }
   ],
   "source": [
    "from timeit import default_timer as dt\n",
    "\n",
    "# Calculations and profiling\n",
    "t0 = dt()\n",
    "dot_res = dot(signal.sin, signal.cos) / n\n",
    "t1 = dt()\n",
    "cos_mean_res = mean(n, signal.cos)\n",
    "t2 = dt()\n",
    "sin_mean_res = mean(n, signal.sin)\n",
    "t3 = dt()\n",
    "\n",
    "# Compare results\n",
    "print(dot_res, cos_mean_res, sin_mean_res)\n",
    "print(t1 - t0, t2 - t1, t3 - t2)"
   ]
  },
  {
   "cell_type": "code",
   "execution_count": 6,
   "metadata": {},
   "outputs": [
    {
     "name": "stdout",
     "output_type": "stream",
     "text": [
      "0.35397332344275195 0.8414353073525443 0.4596782034491702\n",
      "0.00034635799966054037 0.000279985000815941 0.000752665999243618\n"
     ]
    }
   ],
   "source": [
    "from timeit import default_timer as dt\n",
    "\n",
    "# Calculations and profiling\n",
    "t0 = dt()\n",
    "dot_res = np.dot(signal.sin.to_numpy(), signal.cos.to_numpy()) / n\n",
    "t1 = dt()\n",
    "cos_mean_res = np.mean(signal.cos.to_numpy())\n",
    "t2 = dt()\n",
    "sin_mean_res = mean(n, signal.sin)  # for comparison\n",
    "t3 = dt()\n",
    "\n",
    "# Compare results\n",
    "print(dot_res, cos_mean_res, sin_mean_res)\n",
    "print(t1 - t0, t2 - t1, t3 - t2)"
   ]
  },
  {
   "cell_type": "code",
   "execution_count": null,
   "metadata": {},
   "outputs": [],
   "source": []
  }
 ],
 "metadata": {
  "kernelspec": {
   "display_name": "pyKIS",
   "language": "python",
   "name": "pykis"
  },
  "language_info": {
   "codemirror_mode": {
    "name": "ipython",
    "version": 3
   },
   "file_extension": ".py",
   "mimetype": "text/x-python",
   "name": "python",
   "nbconvert_exporter": "python",
   "pygments_lexer": "ipython3",
   "version": "3.7.6"
  }
 },
 "nbformat": 4,
 "nbformat_minor": 4
}
