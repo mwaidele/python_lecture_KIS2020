{
 "cells": [
  {
   "cell_type": "markdown",
   "metadata": {},
   "source": [
    "## 1. NumPy Array basics with DataCamp\n",
    "\n",
    "Have a look at the following DataCamp exercises, or, if you want to put in some more time, go through the [whole DataCamp chapter](https://campus.datacamp.com/courses/intro-to-python-for-data-science/chapter-4-numpy?ex=1)\n",
    "\n",
    "**1.1.** [Your First NumPy Array](https://campus.datacamp.com/courses/intro-to-python-for-data-science/chapter-4-numpy?ex=2)\n",
    "\n",
    "**1.2.** [Baseball players' height](https://campus.datacamp.com/courses/intro-to-python-for-data-science/chapter-4-numpy?ex=3)\n",
    "\n",
    "**1.3.** [Baseball player's BMI](https://campus.datacamp.com/courses/intro-to-python-for-data-science/chapter-4-numpy?ex=4)\n",
    "\n",
    "**1.4.** [Lightweight baseball players](https://campus.datacamp.com/courses/intro-to-python-for-data-science/chapter-4-numpy?ex=5)\n",
    "\n",
    "**1.5.** [Subsetting NumPy Arrays](https://campus.datacamp.com/courses/intro-to-python-for-data-science/chapter-4-numpy?ex=7)\n",
    "\n",
    "**1.6.** [Your First 2D NumPy Array](https://campus.datacamp.com/courses/intro-to-python-for-data-science/chapter-4-numpy?ex=9)\n",
    "\n",
    "**1.7.** [Baseball data in 2D form](https://campus.datacamp.com/courses/intro-to-python-for-data-science/chapter-4-numpy?ex=10)\n",
    "\n",
    "**1.8.** [Subsetting 2D NumPy Arrays](https://campus.datacamp.com/courses/intro-to-python-for-data-science/chapter-4-numpy?ex=11)\n",
    "\n",
    "**1.9.** [2D Arithmetic](https://campus.datacamp.com/courses/intro-to-python-for-data-science/chapter-4-numpy?ex=12)"
   ]
  },
  {
   "cell_type": "markdown",
   "metadata": {},
   "source": [
    "## 2. Functional array creation and manipulation\n",
    "\n",
    "Make use of `numpy.array` to create an array `a` and stepwise produce the output listed below. Try not to create `a` explicitely, but try to use `numpy`-functions:\n",
    "1. `print(a)` yields the following output:\n",
    "```\n",
    "[[0. 0. 0. 0. 0.]\n",
    " [0. 1. 1. 1. 0.]\n",
    " [0. 1. 2. 1. 0.]\n",
    " [0. 1. 1. 1. 0.]\n",
    " [0. 0. 0. 0. 0.]]\n",
    "```\n",
    "*optional:* create the above array in one line, without using `;` (some research might be required).\n",
    "2. Manipulate `a` such that `print(a)` yields the following output:\n",
    "```\n",
    "[[0. 0. 0. 0. 0.]\n",
    " [0. 3. 3. 3. 0.]\n",
    " [0. 3. 6. 3. 0.]\n",
    " [0. 3. 3. 3. 0.]\n",
    " [0. 0. 0. 0. 0.]]\n",
    "```\n",
    "3. Manipulate `a` further such that `print(a)` yields the following output:\n",
    "```\n",
    "[[0. 0. 0. 0. 0.]\n",
    " [0. 4. 3. 3. 0.]\n",
    " [0. 3. 8. 3. 0.]\n",
    " [0. 3. 3. 6. 0.]\n",
    " [0. 0. 0. 0. 4.]]\n",
    "```\n",
    "4. Manipulate `a` further such that `print(a)` yields the following output:\n",
    "```\n",
    "[[ 0.  0.  0.  0.  0.]\n",
    " [ 0.  4. -3. -3.  0.]\n",
    " [ 0.  3. -8. -3.  0.]\n",
    " [ 0.  3.  3.  6.  0.]\n",
    " [ 0.  0.  0.  0.  4.]]\n",
    "```\n",
    "5. Manipulate `a` further such that `print(a)` yields the following output:\n",
    "```\n",
    "[[ 0.  0.  0.  0.  0.]\n",
    " [ 0.  4.  3.  3.  0.]\n",
    " [ 0. -3. -8.  3.  0.]\n",
    " [ 0. -3. -3.  6.  0.]\n",
    " [ 0.  0.  0.  0.  4.]]\n",
    "```"
   ]
  },
  {
   "cell_type": "code",
   "execution_count": 1,
   "metadata": {},
   "outputs": [
    {
     "name": "stdout",
     "output_type": "stream",
     "text": [
      "[[0. 0. 0. 0. 0.]\n",
      " [0. 1. 1. 1. 0.]\n",
      " [0. 1. 2. 1. 0.]\n",
      " [0. 1. 1. 1. 0.]\n",
      " [0. 0. 0. 0. 0.]]\n",
      "[[0. 0. 0. 0. 0.]\n",
      " [0. 1. 1. 1. 0.]\n",
      " [0. 1. 2. 1. 0.]\n",
      " [0. 1. 1. 1. 0.]\n",
      " [0. 0. 0. 0. 0.]]\n",
      "[[0. 0. 0. 0. 0.]\n",
      " [0. 3. 3. 3. 0.]\n",
      " [0. 3. 6. 3. 0.]\n",
      " [0. 3. 3. 3. 0.]\n",
      " [0. 0. 0. 0. 0.]]\n",
      "[[0. 0. 0. 0. 0.]\n",
      " [0. 4. 3. 3. 0.]\n",
      " [0. 3. 8. 3. 0.]\n",
      " [0. 3. 3. 6. 0.]\n",
      " [0. 0. 0. 0. 4.]]\n",
      "[[ 0.  0.  0.  0.  0.]\n",
      " [ 0.  4. -3. -3.  0.]\n",
      " [ 0.  3. -8. -3.  0.]\n",
      " [ 0.  3.  3.  6.  0.]\n",
      " [ 0.  0.  0.  0.  4.]]\n",
      "[[ 0.  0.  0.  0.  0.]\n",
      " [ 0.  4.  3.  3.  0.]\n",
      " [ 0. -3. -8.  3.  0.]\n",
      " [ 0. -3. -3.  6.  0.]\n",
      " [ 0.  0.  0.  0.  4.]]\n"
     ]
    }
   ],
   "source": [
    "import numpy as np\n",
    "\n",
    "a = np.zeros((5, 5))\n",
    "a[1:-1, 1:-1] = 1\n",
    "a[2:-2, 2:-2] = 2\n",
    "print(a)\n",
    "\n",
    "# optional: one-line creation, using np.outer() and '+'\n",
    "b = np.outer(np.array([0, 1., 1, 1, 0]), np.array([0, 1, 1, 1, 0])) + np.outer(np.array([0, 0, 1., 0, 0]), np.array([0, 0, 1, 0, 0]))\n",
    "print(b)\n",
    "\n",
    "a = 3 * a\n",
    "print(a)\n",
    "\n",
    "d = np.diag([0, 1, 2, 3, 4])\n",
    "a = a + d\n",
    "print(a)\n",
    "\n",
    "a[1:3, 2:4] = a[1:3, 2:4] * -1\n",
    "print(a)\n",
    "\n",
    "a = a.T\n",
    "print(a)"
   ]
  },
  {
   "cell_type": "markdown",
   "metadata": {},
   "source": [
    "## 3. Fancy filtering\n",
    "\n",
    "Assume you have an array `f` that represents some timeseries of oscillating values. \n",
    "1. For now `f` oscillates around some offset which can be estimated by its mean value. Normalize all values in `f` by subtracting its mean value.\n",
    "2. Use a loop-approach to filter `f`. Set all values that are lesser than `-0.25` to `-0.25` (after normalizing `f`).\n",
    "3. Use fancy indexing to filter `f` and repeat (2.)\n",
    "\n",
    "Your result should yield the following output:\n",
    "```\n",
    "[ 0.35  0.85 -0.25  0.75 -0.05 -0.25 -0.25 -0.25  0.25  0.85 -0.25 -0.05]\n",
    "```"
   ]
  },
  {
   "cell_type": "code",
   "execution_count": 2,
   "metadata": {},
   "outputs": [
    {
     "name": "stdout",
     "output_type": "stream",
     "text": [
      "[2.4 2.9 1.7 2.8 2.  1.4 1.3 1.7 2.3 2.9 1.2 2. ]\n",
      "[ 0.35  0.85 -0.35  0.75 -0.05 -0.65 -0.75 -0.35  0.25  0.85 -0.85 -0.05]\n",
      "[ 0.35  0.85 -0.25  0.75 -0.05 -0.25 -0.25 -0.25  0.25  0.85 -0.25 -0.05]\n",
      "[ 0.35  0.85 -0.25  0.75 -0.05 -0.25 -0.25 -0.25  0.25  0.85 -0.25 -0.05]\n"
     ]
    }
   ],
   "source": [
    "import numpy as np\n",
    "\n",
    "f = np.array([2.4, 2.9, 1.7, 2.8, 2.0, 1.4, 1.3, 1.7, 2.3, 2.9, 1.2, 2.0])\n",
    "print(f)\n",
    "\n",
    "f = f - f.mean()\n",
    "print(f)\n",
    "\n",
    "# 2.\n",
    "f_filt_1 = np.empty(f.shape)\n",
    "for i, elm in enumerate(f):\n",
    "    if elm < -0.25:\n",
    "        elm = -0.25\n",
    "    f_filt_1[i] = elm\n",
    "print(f_filt_1)\n",
    "\n",
    "# 3.\n",
    "f_filt_2 = f.copy()\n",
    "f_filt_2[f_filt_2 < -0.25] = -0.25\n",
    "print(f_filt_2)"
   ]
  },
  {
   "cell_type": "markdown",
   "metadata": {},
   "source": [
    "## 4. Broadcasting the right way\n",
    "\n",
    "Using the operation `arr // div`, with `arr` and `div` as defined below will broadcast `div` such that each *row* of `arr` is (integer-)divided by `div`. Find a way (using broadcasting) to (integer-)divide each *column* of `arr` is divided by `div`.\n",
    "\n",
    "Your output should look like this:\n",
    "```\n",
    "[[0. 1. 2. 3. 4.]\n",
    " [1. 1. 1. 1. 1.]\n",
    " [1. 1. 1. 1. 1.]\n",
    " [1. 1. 1. 1. 1.]\n",
    " [1. 1. 1. 1. 1.]]\n",
    "```"
   ]
  },
  {
   "cell_type": "code",
   "execution_count": 3,
   "metadata": {},
   "outputs": [
    {
     "name": "stdout",
     "output_type": "stream",
     "text": [
      "(5, 5)\n",
      "(5,)\n"
     ]
    },
    {
     "data": {
      "text/plain": [
       "array([[ 0.,  0.,  0.,  0.,  0.],\n",
       "       [ 5.,  1.,  0.,  0.,  0.],\n",
       "       [10.,  2.,  1.,  0.,  0.],\n",
       "       [15.,  3.,  1.,  1.,  0.],\n",
       "       [20.,  4.,  2.,  1.,  1.]])"
      ]
     },
     "execution_count": 3,
     "metadata": {},
     "output_type": "execute_result"
    }
   ],
   "source": [
    "import numpy as np\n",
    "\n",
    "arr = np.arange(25).reshape(5, 5)\n",
    "print(arr.shape)\n",
    "\n",
    "div = np.array([1., 5, 10, 15, 20])\n",
    "print(div.shape)\n",
    "\n",
    "arr // div"
   ]
  },
  {
   "cell_type": "code",
   "execution_count": 4,
   "metadata": {},
   "outputs": [
    {
     "data": {
      "text/plain": [
       "array([[ 0,  1,  2,  3,  4],\n",
       "       [ 5,  6,  7,  8,  9],\n",
       "       [10, 11, 12, 13, 14],\n",
       "       [15, 16, 17, 18, 19],\n",
       "       [20, 21, 22, 23, 24]])"
      ]
     },
     "execution_count": 4,
     "metadata": {},
     "output_type": "execute_result"
    }
   ],
   "source": [
    "arr"
   ]
  },
  {
   "cell_type": "code",
   "execution_count": 5,
   "metadata": {},
   "outputs": [
    {
     "data": {
      "text/plain": [
       "array([ 1.,  5., 10., 15., 20.])"
      ]
     },
     "execution_count": 5,
     "metadata": {},
     "output_type": "execute_result"
    }
   ],
   "source": [
    "div"
   ]
  },
  {
   "cell_type": "code",
   "execution_count": 6,
   "metadata": {},
   "outputs": [
    {
     "data": {
      "text/plain": [
       "array([[ 1.],\n",
       "       [ 5.],\n",
       "       [10.],\n",
       "       [15.],\n",
       "       [20.]])"
      ]
     },
     "execution_count": 6,
     "metadata": {},
     "output_type": "execute_result"
    }
   ],
   "source": [
    "div[:, np.newaxis]"
   ]
  },
  {
   "cell_type": "code",
   "execution_count": 7,
   "metadata": {},
   "outputs": [
    {
     "name": "stdout",
     "output_type": "stream",
     "text": [
      "(5, 5)\n",
      "(5, 1)\n"
     ]
    },
    {
     "data": {
      "text/plain": [
       "array([[0., 1., 2., 3., 4.],\n",
       "       [1., 1., 1., 1., 1.],\n",
       "       [1., 1., 1., 1., 1.],\n",
       "       [1., 1., 1., 1., 1.],\n",
       "       [1., 1., 1., 1., 1.]])"
      ]
     },
     "execution_count": 7,
     "metadata": {},
     "output_type": "execute_result"
    }
   ],
   "source": [
    "print(arr.shape)\n",
    "print(div[:, np.newaxis].shape)\n",
    "arr // div[:, np.newaxis]"
   ]
  },
  {
   "cell_type": "code",
   "execution_count": null,
   "metadata": {},
   "outputs": [],
   "source": []
  }
 ],
 "metadata": {
  "kernelspec": {
   "display_name": "pyKIS",
   "language": "python",
   "name": "pykis"
  },
  "language_info": {
   "codemirror_mode": {
    "name": "ipython",
    "version": 3
   },
   "file_extension": ".py",
   "mimetype": "text/x-python",
   "name": "python",
   "nbconvert_exporter": "python",
   "pygments_lexer": "ipython3",
   "version": "3.7.6"
  }
 },
 "nbformat": 4,
 "nbformat_minor": 4
}
