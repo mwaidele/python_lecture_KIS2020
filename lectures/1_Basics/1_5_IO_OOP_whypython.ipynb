{
 "cells": [
  {
   "cell_type": "markdown",
   "metadata": {},
   "source": [
    "## Input and Output"
   ]
  },
  {
   "cell_type": "markdown",
   "metadata": {},
   "source": [
    "python offers many tools to import files and data. Often these are contained in specific packages. For now we will look at the built-in function `open()`."
   ]
  },
  {
   "cell_type": "code",
   "execution_count": 1,
   "metadata": {},
   "outputs": [],
   "source": [
    "%cat ../../data/workfile.txt"
   ]
  },
  {
   "cell_type": "code",
   "execution_count": 2,
   "metadata": {},
   "outputs": [
    {
     "name": "stdout",
     "output_type": "stream",
     "text": [
      "<class '_io.TextIOWrapper'>\n",
      "First line of file <workfile.txt>\n",
      "Second line\n",
      "\n",
      "The line above is left blank."
     ]
    }
   ],
   "source": [
    "f = open('../../data/workfile.txt', 'r')\n",
    "print(type(f))\n",
    "for line in f:\n",
    "    print(line, end='')\n",
    "f.close()"
   ]
  },
  {
   "cell_type": "code",
   "execution_count": 3,
   "metadata": {},
   "outputs": [
    {
     "name": "stdout",
     "output_type": "stream",
     "text": [
      "<class '_io.TextIOWrapper'>\n",
      "First line of file <workfile.txt>\n",
      "Second line\n",
      "\n",
      "The line above is left blank.\n"
     ]
    }
   ],
   "source": [
    "f = open('../../data/workfile.txt', 'r')\n",
    "print(type(f))\n",
    "s = f.read()\n",
    "print(s)\n",
    "f.close()"
   ]
  },
  {
   "cell_type": "code",
   "execution_count": 4,
   "metadata": {},
   "outputs": [
    {
     "name": "stdout",
     "output_type": "stream",
     "text": [
      "<class '_io.TextIOWrapper'>\n",
      "First line of file <workfile.txt>\n",
      "Second line\n",
      "\n",
      "The line above is left blank."
     ]
    }
   ],
   "source": [
    "f = open('../../data/workfile.txt', 'r')\n",
    "print(type(f))\n",
    "for line in f.readlines():\n",
    "    print(line, end='')\n",
    "f.close()"
   ]
  },
  {
   "cell_type": "markdown",
   "metadata": {},
   "source": [
    "Writing to a file can be done with the `write()`-method, although we have to open the file using a different mode: `w`"
   ]
  },
  {
   "cell_type": "code",
   "execution_count": 5,
   "metadata": {},
   "outputs": [
    {
     "name": "stdout",
     "output_type": "stream",
     "text": [
      "Creating a new file and inserting a this line."
     ]
    }
   ],
   "source": [
    "f = open('../../data/workfile_w.txt', 'w')\n",
    "f.write('Creating a new file and inserting a this line.')\n",
    "f.close()\n",
    "\n",
    "%cat ../../data/workfile_w.txt"
   ]
  },
  {
   "cell_type": "markdown",
   "metadata": {},
   "source": [
    "All the modes:\n",
    "- Read only: `r`\n",
    "- Write only: `w` (overwrites existing files)\n",
    "- Append a file: `a` (adds to an existing file)\n",
    "- Read and Write: `r+`\n",
    "- Binary mode: `b`"
   ]
  },
  {
   "cell_type": "markdown",
   "metadata": {},
   "source": [
    "`with`-blocks take care of handling the file-stream correctly. Using the `close()` works fine, but if an exception occurs before-hand, the file-stream is not closed properly"
   ]
  },
  {
   "cell_type": "markdown",
   "metadata": {},
   "source": [
    "```python\n",
    "# file is not closed properly\n",
    "f = open('test.txt', 'r')\n",
    "- exception happens here -\n",
    "f.close()\n",
    "\n",
    "# file is closed regardless of exception\n",
    "with open('test.txt', 'r') as f:\n",
    "    - exception happens here -\n",
    "```"
   ]
  },
  {
   "cell_type": "markdown",
   "metadata": {},
   "source": [
    "## Object-Oriented Programming"
   ]
  },
  {
   "cell_type": "markdown",
   "metadata": {},
   "source": [
    "So far we tried to solve problems by either declaring a variable and run a series of procedures (routines or functions) that change it until the desired result is obtained (*Procedural Programming*), or by defining general functions and obtain a result by applying these functions to an initial parameter (*functional Programming*). These are called *Programming Paradigm*, which although they lead to the result classify different programming styles.\n",
    "\n",
    "Another Paradigm that is often viewed as very structured, organized and reusable is called *Object-Oriented Programming*."
   ]
  },
  {
   "cell_type": "markdown",
   "metadata": {},
   "source": [
    "### Classes, Instances and Attributes"
   ]
  },
  {
   "cell_type": "code",
   "execution_count": 6,
   "metadata": {},
   "outputs": [
    {
     "name": "stdout",
     "output_type": "stream",
     "text": [
      "<class '__main__.cargo'>\n",
      "<class 'type'>\n",
      "bananas\n"
     ]
    }
   ],
   "source": [
    "class cargo():\n",
    "    load = 'bananas'\n",
    "\n",
    "print(cargo)\n",
    "print(type(cargo))\n",
    "print(cargo.load)"
   ]
  },
  {
   "cell_type": "code",
   "execution_count": 7,
   "metadata": {},
   "outputs": [
    {
     "name": "stdout",
     "output_type": "stream",
     "text": [
      "apples\n",
      "apples\n"
     ]
    }
   ],
   "source": [
    "truck_1 = cargo\n",
    "truck_1.load = 'apples'\n",
    "print(truck_1.load)\n",
    "\n",
    "truck_2 = cargo\n",
    "print(truck_2.load)"
   ]
  },
  {
   "cell_type": "markdown",
   "metadata": {},
   "source": [
    "A `class` is a framework to hold variables (called *attributes*) and functions (called *methods*). As seen above, assigning new variables to the same class and then changing class-attributes leads to global changes. Usually one wants to create seperate cases for the same class framework, called *instances*."
   ]
  },
  {
   "cell_type": "code",
   "execution_count": 8,
   "metadata": {},
   "outputs": [
    {
     "name": "stdout",
     "output_type": "stream",
     "text": [
      "<class '__main__.cargo'>\n",
      "Creating instance\n",
      "<__main__.cargo object at 0x7fe1a0482090>\n"
     ]
    }
   ],
   "source": [
    "class cargo():\n",
    "    def __init__(self):\n",
    "        print('Creating instance')\n",
    "        load = 'bananas'\n",
    "\n",
    "print(cargo)\n",
    "print(cargo())\n",
    "#print(cargo().load)"
   ]
  },
  {
   "cell_type": "code",
   "execution_count": 9,
   "metadata": {},
   "outputs": [
    {
     "name": "stdout",
     "output_type": "stream",
     "text": [
      "<class '__main__.cargo'>\n",
      "Creating instance\n",
      "<__main__.cargo object at 0x7fe1a04821d0>\n",
      "Creating instance\n",
      "bananas\n"
     ]
    }
   ],
   "source": [
    "class cargo():\n",
    "    def __init__(self):\n",
    "        print('Creating instance')\n",
    "        self.load = 'bananas'\n",
    "\n",
    "print(cargo)\n",
    "print(cargo())\n",
    "print(cargo().load)"
   ]
  },
  {
   "cell_type": "markdown",
   "metadata": {},
   "source": [
    "We created an *instance* of the class `cargo` using `()`. `self` always declares that an instance of the class is accessed, not the class itself. `load` is in this case an attribute, that is only assigned to an instance of the class."
   ]
  },
  {
   "cell_type": "code",
   "execution_count": 10,
   "metadata": {},
   "outputs": [
    {
     "name": "stdout",
     "output_type": "stream",
     "text": [
      "Creating instance\n",
      "apples\n",
      "Creating instance\n",
      "bananas\n"
     ]
    }
   ],
   "source": [
    "truck_1 = cargo()\n",
    "truck_1.load = 'apples'\n",
    "print(truck_1.load)\n",
    "\n",
    "truck_2 = cargo()\n",
    "print(truck_2.load)"
   ]
  },
  {
   "cell_type": "markdown",
   "metadata": {},
   "source": [
    "Attributes can also be declared by passing a parameters upon creating an instance. And just as we learned for functions, these parameters can have default values."
   ]
  },
  {
   "cell_type": "code",
   "execution_count": 11,
   "metadata": {},
   "outputs": [
    {
     "name": "stdout",
     "output_type": "stream",
     "text": [
      "<class '__main__.cargo'>\n",
      "<__main__.cargo object at 0x7fe19939c850>\n",
      "bananas\n",
      "apples\n",
      "bananas\n"
     ]
    }
   ],
   "source": [
    "class cargo():\n",
    "    def __init__(self, load='bananas'):\n",
    "        #print('Creating instance')\n",
    "        self.load = load\n",
    "\n",
    "print(cargo)\n",
    "print(cargo())\n",
    "print(cargo().load)\n",
    "\n",
    "truck_1 = cargo(load='apples')\n",
    "print(truck_1.load)\n",
    "\n",
    "truck_2 = cargo()\n",
    "print(truck_2.load)"
   ]
  },
  {
   "cell_type": "markdown",
   "metadata": {},
   "source": [
    "### Methods"
   ]
  },
  {
   "cell_type": "markdown",
   "metadata": {},
   "source": [
    "methods are functions linked to a class or instance. `__init__` for example tells a class how to handle instancing. Similar to all functions and methods, class methods can take parameters and return values."
   ]
  },
  {
   "cell_type": "code",
   "execution_count": 12,
   "metadata": {},
   "outputs": [
    {
     "name": "stdout",
     "output_type": "stream",
     "text": [
      "This is a method\n",
      "Creating instance\n",
      "This is a method\n"
     ]
    }
   ],
   "source": [
    "class cargo():\n",
    "    def __init__(self):\n",
    "        print('Creating instance')\n",
    "    \n",
    "    def method_1(self):  # parameter is self or any class\n",
    "        print('This is a method')\n",
    "\n",
    "\n",
    "# Calling the method via the cargo-class directly\n",
    "cargo.method_1(cargo)\n",
    "\n",
    "# Calling the method via an instance of cargo\n",
    "truck_1 = cargo()\n",
    "truck_1.method_1()"
   ]
  },
  {
   "cell_type": "code",
   "execution_count": 13,
   "metadata": {},
   "outputs": [
    {
     "name": "stdout",
     "output_type": "stream",
     "text": [
      "['apples']\n",
      "['apples', 'milk']\n",
      "['milk']\n"
     ]
    }
   ],
   "source": [
    "class cargo():\n",
    "    def __init__(self, load='bananas'):\n",
    "        self.load = [load, ]  # create a list of one single load\n",
    "    \n",
    "    def add_load(self, new_load):\n",
    "        self.load = self.load + [new_load, ]  # add new_load to self.load\n",
    "        #self.load.append(new_load)\n",
    "    \n",
    "    def ship_load(self, old_load):\n",
    "        if old_load in self.load:  # check first is item is loaded\n",
    "            self.load.remove(old_load)\n",
    "\n",
    "\n",
    "truck_1 = cargo(load='apples')\n",
    "print(truck_1.load)\n",
    "\n",
    "truck_1.add_load('milk')\n",
    "print(truck_1.load)\n",
    "\n",
    "truck_1.ship_load('apples')\n",
    "print(truck_1.load)"
   ]
  },
  {
   "cell_type": "markdown",
   "metadata": {},
   "source": [
    "### Inheritance\n",
    "classes can pass on (*inherit*) attributes and variables to other classes. This allows for structured and easily reusable code."
   ]
  },
  {
   "cell_type": "code",
   "execution_count": 14,
   "metadata": {},
   "outputs": [
    {
     "name": "stdout",
     "output_type": "stream",
     "text": [
      "10 7 25\n",
      "10 0 25\n",
      "10 0 -10\n"
     ]
    }
   ],
   "source": [
    "class A():\n",
    "    a = 10\n",
    "    b = 7\n",
    "    c = 25\n",
    "\n",
    "class B(A):\n",
    "    b = 0\n",
    "\n",
    "class C(B):\n",
    "    a = B.a\n",
    "    c = -10\n",
    "\n",
    "print(A.a, A.b, A.c)\n",
    "print(B.a, B.b, B.c)\n",
    "print(C.a, C.b, C.c)"
   ]
  },
  {
   "cell_type": "code",
   "execution_count": 15,
   "metadata": {},
   "outputs": [
    {
     "name": "stdout",
     "output_type": "stream",
     "text": [
      "Cargo is shipped via truck. Current load: ['apples']\n",
      "Cargo is shipped via truck. Current load: ['apples', 'milk']\n",
      "Cargo is shipped via truck. Current load: ['milk']\n",
      "Cargo is shipped via plane. Current load: ['melons']\n",
      "Cargo is shipped via plane. Current load: ['melons', 'ananas']\n",
      "Cargo is shipped via plane. Current load: ['melons']\n"
     ]
    }
   ],
   "source": [
    "class cargo():\n",
    "    def __init__(self, load='bananas'):\n",
    "        self.load = [load, ]  # create a list of one single load\n",
    "    \n",
    "    def add_load(self, new_load):\n",
    "        self.load = self.load + [new_load, ]  # add new_load to self.load\n",
    "        #self.load.append(new_load)\n",
    "    \n",
    "    def ship_load(self, old_load):\n",
    "        if old_load in self.load:  # check first is item is loaded\n",
    "            self.load.remove(old_load)\n",
    "\n",
    "\n",
    "class land(cargo):\n",
    "    def __repr__(self):\n",
    "        return 'Cargo is shipped via truck. Current load: %s' % self.load\n",
    "\n",
    "\n",
    "class air(cargo):\n",
    "    def __repr__(self):\n",
    "        return 'Cargo is shipped via plane. Current load: %s' % self.load\n",
    "\n",
    "\n",
    "truck_1 = land(load='apples')\n",
    "print(truck_1)\n",
    "\n",
    "truck_1.add_load('milk')\n",
    "print(truck_1)\n",
    "\n",
    "truck_1.ship_load('apples')\n",
    "print(truck_1)\n",
    "\n",
    "plane_1 = air(load='melons')\n",
    "print(plane_1)\n",
    "\n",
    "plane_1.add_load('ananas')\n",
    "print(plane_1)\n",
    "\n",
    "plane_1.ship_load('ananas')\n",
    "print(plane_1)"
   ]
  },
  {
   "cell_type": "markdown",
   "metadata": {},
   "source": [
    "## Why python?"
   ]
  },
  {
   "cell_type": "markdown",
   "metadata": {},
   "source": [
    "- python has simple and clear syntax, making it easy to pick up even as your first programming language. \n",
    "- python is open source and easily portable. You can use it on your phone and its still free. No license needed. \n",
    "- python has a large community behind it. Even for very specific problems, packages are available\n",
    "- python is especially suited for scientists: Many data manipulation packages are availabe. Visualization is made trivial (and easily looks nice). If coded appropriately, python can be very fast."
   ]
  },
  {
   "cell_type": "code",
   "execution_count": null,
   "metadata": {},
   "outputs": [],
   "source": []
  }
 ],
 "metadata": {
  "kernelspec": {
   "display_name": "Python 3",
   "language": "python",
   "name": "python3"
  },
  "language_info": {
   "codemirror_mode": {
    "name": "ipython",
    "version": 3
   },
   "file_extension": ".py",
   "mimetype": "text/x-python",
   "name": "python",
   "nbconvert_exporter": "python",
   "pygments_lexer": "ipython3",
   "version": "3.7.6"
  }
 },
 "nbformat": 4,
 "nbformat_minor": 4
}
