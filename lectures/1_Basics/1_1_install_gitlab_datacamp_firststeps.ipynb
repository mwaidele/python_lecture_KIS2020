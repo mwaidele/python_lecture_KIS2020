{
 "cells": [
  {
   "cell_type": "markdown",
   "metadata": {},
   "source": [
    "## Installation\n",
    "\n",
    "If you are able to read this, your installation was successful."
   ]
  },
  {
   "cell_type": "markdown",
   "metadata": {},
   "source": [
    "## GitLab introduction\n",
    "GitLab is a code hosting platform for version control and collaboration. It lets you and others work together on projects from anywhere.\n",
    "\n",
    "Later in the exercises we will create and manage our own repository.\n",
    "\n",
    "### What is a repository?\n",
    "A repository is usually used to organize a single project. Repositories can contain folders and files, images, videos, spreadsheets, and data sets – anything your project needs. \n",
    "\n",
    "### Managing versions\n",
    "Generally, when versions need to be controlled, a \"master\"-project and a \"side\"-project are considered seperately. Small changes and tests are done in the side-project, until many changes lead to a larger update in the master-project. In GitHub these master- and side-projects are called \"branches\".\n",
    "\n",
    "<img src=\"img/git-branches-merge.png\" width=400/>\n",
    "\n",
    "### commiting and merging\n",
    "In the image above, each dot on a branch marks a new version of the project. These versions come in updates, called \"commits\". When someone works on a particular version of a project, the changes made are not visible in the repository, until they are commited. \n",
    "\n",
    "As seen in the image, versions can differ from branch to branch. That means that one side-branch can contain files that are not present on the main-branch and vice versa. Combining both branches again, so that all files appear on the main-branch is called \"merging\". \n",
    "\n",
    "### Pull requests\n",
    "Pull requests become important when multiple people work on the same project. If you work on a side-branch, within a shard project, your collaborators might not agree with merging your work into the master-branch. They could ask you to creat a merge- (or \"pull\"-)request beforehand, so that your work can be reviewed before it is integrated into the master-branch of the project."
   ]
  },
  {
   "cell_type": "markdown",
   "metadata": {},
   "source": [
    "## DataCamp\n",
    "\n",
    "[DataCamp](https://learn.datacamp.com) is an online learning platform specifically for programming. Within this lecture, we will use it mainly for its interactive exercises. It is also useful for individual learning sessions, to either repeat or expand on topics that will be introduced in this lecture.\n",
    "\n",
    "A collection of all available python courses can be found in \"courses\"->\"python\" as follows:\n",
    "<img src=img/dc1.png/>\n",
    "\n",
    "Specific exercises during the lecture and courses for individual studies will be pointed out."
   ]
  },
  {
   "cell_type": "markdown",
   "metadata": {},
   "source": [
    "## First Steps\n",
    "\n",
    "- How does this work, why am I in my browser?\n",
    "- Interactive sessions\n",
    "- jupyter notebooks\n",
    "- Your first steps start right here"
   ]
  },
  {
   "cell_type": "code",
   "execution_count": 1,
   "metadata": {},
   "outputs": [
    {
     "name": "stdout",
     "output_type": "stream",
     "text": [
      "Hello, world!\n"
     ]
    }
   ],
   "source": [
    "print(\"Hello, world!\")"
   ]
  },
  {
   "cell_type": "code",
   "execution_count": 2,
   "metadata": {},
   "outputs": [
    {
     "data": {
      "text/plain": [
       "4"
      ]
     },
     "execution_count": 2,
     "metadata": {},
     "output_type": "execute_result"
    }
   ],
   "source": [
    "2+2"
   ]
  },
  {
   "cell_type": "code",
   "execution_count": 3,
   "metadata": {},
   "outputs": [
    {
     "data": {
      "text/plain": [
       "2.4487171000000014"
      ]
     },
     "execution_count": 3,
     "metadata": {},
     "output_type": "execute_result"
    }
   ],
   "source": [
    "1.10**7 + 10 / 20"
   ]
  },
  {
   "cell_type": "code",
   "execution_count": 4,
   "metadata": {},
   "outputs": [
    {
     "name": "stdout",
     "output_type": "stream",
     "text": [
      "3 6 9\n"
     ]
    },
    {
     "data": {
      "text/plain": [
       "'Hello, world!'"
      ]
     },
     "execution_count": 4,
     "metadata": {},
     "output_type": "execute_result"
    }
   ],
   "source": [
    "a = 3\n",
    "b = 2 * a\n",
    "print(a, b, a + b)\n",
    "\n",
    "a = 'Hello'\n",
    "b = 'world!'\n",
    "a + ', ' + b"
   ]
  },
  {
   "cell_type": "code",
   "execution_count": 5,
   "metadata": {},
   "outputs": [
    {
     "name": "stdout",
     "output_type": "stream",
     "text": [
      "Your current balance:  700\n"
     ]
    }
   ],
   "source": [
    "# Everything following the #-symbol will be ignored by the interpreter\n",
    "# Making it possible to comment code\n",
    "savings = 1000\n",
    "income = 600\n",
    "spending = 900\n",
    "\n",
    "# Calculate balance\n",
    "balance = savings + income - spending\n",
    "\n",
    "print('Your current balance: ', balance)"
   ]
  },
  {
   "cell_type": "markdown",
   "metadata": {},
   "source": [
    "All basic math operations are present in python. These include:\n",
    "- Addition `+`\n",
    "- Subtraction `-`\n",
    "- Multiplication `*`\n",
    "- Division `/`\n",
    "- Exponentiation `**`\n",
    "- Integer Division `//`\n",
    "- Modulo `%`"
   ]
  },
  {
   "cell_type": "code",
   "execution_count": 6,
   "metadata": {},
   "outputs": [
    {
     "name": "stdout",
     "output_type": "stream",
     "text": [
      "21\n",
      "3\n",
      "108\n",
      "1.3333333333333333\n",
      "5159780352\n",
      "1\n",
      "3\n"
     ]
    }
   ],
   "source": [
    "a = 12\n",
    "b = 9\n",
    "print(a + b)\n",
    "print(a - b)\n",
    "print(a * b)\n",
    "print(a / b)\n",
    "print(a ** b)\n",
    "print(a // b)\n",
    "print(a % b)"
   ]
  },
  {
   "cell_type": "code",
   "execution_count": null,
   "metadata": {},
   "outputs": [],
   "source": []
  }
 ],
 "metadata": {
  "kernelspec": {
   "display_name": "pyKIS",
   "language": "python",
   "name": "pykis"
  },
  "language_info": {
   "codemirror_mode": {
    "name": "ipython",
    "version": 3
   },
   "file_extension": ".py",
   "mimetype": "text/x-python",
   "name": "python",
   "nbconvert_exporter": "python",
   "pygments_lexer": "ipython3",
   "version": "3.7.6"
  }
 },
 "nbformat": 4,
 "nbformat_minor": 4
}
