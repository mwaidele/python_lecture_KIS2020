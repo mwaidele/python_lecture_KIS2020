{
 "cells": [
  {
   "cell_type": "markdown",
   "metadata": {},
   "source": [
    "## Magic Methods\n",
    "\n",
    "We already learned about the `__init__` method, that is called upon instancing of a class. Classes in python come with many more magic methods that can be convenient when set up. ([You can find a decent list of all magic methods with short explanations here](https://rszalski.github.io/magicmethods/))."
   ]
  },
  {
   "cell_type": "code",
   "execution_count": 3,
   "metadata": {},
   "outputs": [],
   "source": [
    "class cargo():\n",
    "    def __init__(self, load='bananas'):\n",
    "        self.load = [load, ]  # create a list of one single load\n",
    "\n",
    "\n",
    "class land(cargo):\n",
    "    def __repr__(self):\n",
    "        return 'Cargo is shipped via truck. Current load: %s' % self.load"
   ]
  },
  {
   "cell_type": "markdown",
   "metadata": {},
   "source": [
    "Magic methods are inherited, and can be called just like regular methods."
   ]
  },
  {
   "cell_type": "code",
   "execution_count": 4,
   "metadata": {},
   "outputs": [],
   "source": [
    "class storage(land):\n",
    "    def __repr__(self):\n",
    "        land_repr = land.__repr__(self)\n",
    "        return land_repr + ', load is stored in this box.'"
   ]
  },
  {
   "cell_type": "code",
   "execution_count": 5,
   "metadata": {},
   "outputs": [
    {
     "name": "stdout",
     "output_type": "stream",
     "text": [
      "Cargo is shipped via truck. Current load: ['bananas']\n"
     ]
    },
    {
     "data": {
      "text/plain": [
       "Cargo is shipped via truck. Current load: ['bananas'], load is stored in this box."
      ]
     },
     "execution_count": 5,
     "metadata": {},
     "output_type": "execute_result"
    }
   ],
   "source": [
    "truck_1 = land()\n",
    "box_1 = storage()\n",
    "\n",
    "print(truck_1)\n",
    "box_1"
   ]
  },
  {
   "cell_type": "code",
   "execution_count": 6,
   "metadata": {},
   "outputs": [],
   "source": [
    "class storage(land):\n",
    "    def __init__(self, box='cardboard'):\n",
    "        self.box = box\n",
    "        cargo.__init__(self)\n",
    "    \n",
    "    def __repr__(self):\n",
    "        land_repr = land.__repr__(self)\n",
    "        return land_repr + ', load is stored in this %s-box.' % self.box"
   ]
  },
  {
   "cell_type": "code",
   "execution_count": 7,
   "metadata": {},
   "outputs": [
    {
     "name": "stdout",
     "output_type": "stream",
     "text": [
      "Cargo is shipped via truck. Current load: ['bananas']\n"
     ]
    },
    {
     "data": {
      "text/plain": [
       "Cargo is shipped via truck. Current load: ['bananas'], load is stored in this cardboard-box."
      ]
     },
     "execution_count": 7,
     "metadata": {},
     "output_type": "execute_result"
    }
   ],
   "source": [
    "truck_1 = land()\n",
    "box_1 = storage()\n",
    "\n",
    "print(truck_1)\n",
    "box_1"
   ]
  },
  {
   "cell_type": "markdown",
   "metadata": {},
   "source": [
    "An object is generally not callable. However it can be, when the `__call__` method is defined."
   ]
  },
  {
   "cell_type": "code",
   "execution_count": 8,
   "metadata": {},
   "outputs": [
    {
     "name": "stdout",
     "output_type": "stream",
     "text": [
      "Load apples was shipped.\n"
     ]
    }
   ],
   "source": [
    "class cargo():\n",
    "    def __init__(self, load='bananas'):\n",
    "        self.load = [load, ]  # create a list of one single load\n",
    "    \n",
    "    def add_load(self, new_load):\n",
    "        self.load = self.load + [new_load, ]  # add new_load to self.load\n",
    "        #self.load.append(new_load)\n",
    "    \n",
    "    def ship_load(self, old_load):\n",
    "        if old_load in self.load:  # check first if item is loaded\n",
    "            self.load.remove(old_load)\n",
    "            print('Load %s was shipped.' % old_load)\n",
    "\n",
    "\n",
    "truck_1 = cargo()\n",
    "truck_1.add_load('apples')\n",
    "truck_1.ship_load('apples')"
   ]
  },
  {
   "cell_type": "code",
   "execution_count": 9,
   "metadata": {},
   "outputs": [
    {
     "name": "stdout",
     "output_type": "stream",
     "text": [
      "Load apples was shipped.\n"
     ]
    }
   ],
   "source": [
    "class cargo():\n",
    "    def __init__(self, load='bananas'):\n",
    "        self.load = [load, ]  # create a list of one single load\n",
    "    \n",
    "    def add_load(self, new_load):\n",
    "        self.load = self.load + [new_load, ]  # add new_load to self.load\n",
    "        #self.load.append(new_load)\n",
    "    \n",
    "    def __call__(self, old_load):\n",
    "        if old_load in self.load:  # check first if item is loaded\n",
    "            self.load.remove(old_load)\n",
    "            print('Load %s was shipped.' % old_load)\n",
    "\n",
    "\n",
    "truck_1 = cargo()\n",
    "truck_1.add_load('apples')\n",
    "truck_1('apples')"
   ]
  },
  {
   "cell_type": "markdown",
   "metadata": {},
   "source": [
    "Handling conversion: `__str__` defines what is returned from calling `str(obj)`."
   ]
  },
  {
   "cell_type": "code",
   "execution_count": 10,
   "metadata": {},
   "outputs": [
    {
     "name": "stdout",
     "output_type": "stream",
     "text": [
      "Returned from __str__\n"
     ]
    },
    {
     "data": {
      "text/plain": [
       "Cargo is shipped via truck. Current load: ['bananas'], load is stored in this cardboard-box."
      ]
     },
     "execution_count": 10,
     "metadata": {},
     "output_type": "execute_result"
    }
   ],
   "source": [
    "class storage(land):\n",
    "    def __init__(self, box='cardboard'):\n",
    "        self.box = box\n",
    "        cargo.__init__(self)\n",
    "    \n",
    "    def __repr__(self):\n",
    "        land_repr = land.__repr__(self)\n",
    "        return land_repr + ', load is stored in this %s-box.' % self.box\n",
    "    \n",
    "    def __str__(self):\n",
    "        return 'Returned from __str__'\n",
    "\n",
    "\n",
    "box_1 = storage()\n",
    "print(box_1)\n",
    "box_1"
   ]
  },
  {
   "cell_type": "code",
   "execution_count": 11,
   "metadata": {},
   "outputs": [
    {
     "data": {
      "text/plain": [
       "'Returned from __str__'"
      ]
     },
     "execution_count": 11,
     "metadata": {},
     "output_type": "execute_result"
    }
   ],
   "source": [
    "str(box_1)"
   ]
  },
  {
   "cell_type": "code",
   "execution_count": 12,
   "metadata": {},
   "outputs": [
    {
     "name": "stdout",
     "output_type": "stream",
     "text": [
      "Cargo is shipped via truck. Current load: ['bananas'], load is stored in this cardboard-box.\n"
     ]
    },
    {
     "data": {
      "text/plain": [
       "Cargo is shipped via truck. Current load: ['bananas'], load is stored in this cardboard-box."
      ]
     },
     "execution_count": 12,
     "metadata": {},
     "output_type": "execute_result"
    }
   ],
   "source": [
    "class storage(land):\n",
    "    def __init__(self, box='cardboard'):\n",
    "        self.box = box\n",
    "        cargo.__init__(self)\n",
    "    \n",
    "    def __repr__(self):\n",
    "        land_repr = land.__repr__(self)\n",
    "        return land_repr + ', load is stored in this %s-box.' % self.box\n",
    "    \n",
    "    def __str__(self):\n",
    "        return self.__repr__()\n",
    "\n",
    "\n",
    "box_1 = storage()\n",
    "print(box_1)\n",
    "box_1"
   ]
  },
  {
   "cell_type": "markdown",
   "metadata": {},
   "source": [
    "Of course all the type-conversion can be defined: `__int__`, `__float__`, `__complex__` etc."
   ]
  },
  {
   "cell_type": "markdown",
   "metadata": {},
   "source": [
    "## Defining operation behavior using magic methods\n",
    "\n",
    "Not all operations using one or multiple objects have to be implemented explicitely. Oftentimes the desired behavior can be achieved by defining an operator."
   ]
  },
  {
   "cell_type": "code",
   "execution_count": 13,
   "metadata": {},
   "outputs": [
    {
     "name": "stdout",
     "output_type": "stream",
     "text": [
      "['bananas'] ['apples']\n",
      "['bananas', 'apples'] []\n"
     ]
    }
   ],
   "source": [
    "class cargo():\n",
    "    def __init__(self, load='bananas'):\n",
    "        self.load = [load, ]  # create a list of one single load\n",
    "    \n",
    "    def add_load(self, new_load):\n",
    "        self.load = self.load + [new_load, ]  # add new_load to self.load\n",
    "        #self.load.append(new_load)\n",
    "    \n",
    "    def add_cargo(self, other):  # add loads from other cargo\n",
    "        self.load = self.load + other.load\n",
    "        other.load = []\n",
    "    \n",
    "    def __call__(self, old_load):\n",
    "        if old_load in self.load:  # check first if item is loaded\n",
    "            self.load.remove(old_load)\n",
    "            print('Load %s was shipped.' % old_load)\n",
    "\n",
    "\n",
    "truck_1 = cargo('bananas')\n",
    "truck_2 = cargo('apples')\n",
    "\n",
    "print(truck_1.load, truck_2.load)\n",
    "\n",
    "#truck_1 + truck_2\n",
    "truck_1.add_cargo(truck_2)\n",
    "\n",
    "print(truck_1.load, truck_2.load)"
   ]
  },
  {
   "cell_type": "code",
   "execution_count": 14,
   "metadata": {},
   "outputs": [
    {
     "name": "stdout",
     "output_type": "stream",
     "text": [
      "['bananas'] ['apples']\n",
      "['bananas', 'apples'] []\n"
     ]
    }
   ],
   "source": [
    "class cargo():\n",
    "    def __init__(self, load='bananas'):\n",
    "        self.load = [load, ]  # create a list of one single load\n",
    "    \n",
    "    def add_load(self, new_load):\n",
    "        self.load = self.load + [new_load, ]  # add new_load to self.load\n",
    "        #self.load.append(new_load)\n",
    "    \n",
    "    def __add__(self, other):  # add loads from other cargo\n",
    "        self.load = self.load + other.load\n",
    "        other.load = []\n",
    "    \n",
    "    def __call__(self, old_load):\n",
    "        if old_load in self.load:  # check first if item is loaded\n",
    "            self.load.remove(old_load)\n",
    "            print('Load %s was shipped.' % old_load)\n",
    "\n",
    "\n",
    "truck_1 = cargo('bananas')\n",
    "truck_2 = cargo('apples')\n",
    "\n",
    "print(truck_1.load, truck_2.load)\n",
    "\n",
    "truck_1 + truck_2\n",
    "#truck_1.add_cargo(truck_2)\n",
    "\n",
    "print(truck_1.load, truck_2.load)"
   ]
  },
  {
   "cell_type": "markdown",
   "metadata": {},
   "source": [
    "Position can matter for operations. For that purpose, python offers \"reflected\" operations."
   ]
  },
  {
   "cell_type": "code",
   "execution_count": 15,
   "metadata": {},
   "outputs": [
    {
     "name": "stdout",
     "output_type": "stream",
     "text": [
      "['bananas'] ['apples']\n",
      "[] ['apples', 'bananas']\n"
     ]
    }
   ],
   "source": [
    "class cargo():\n",
    "    def __init__(self, load='bananas'):\n",
    "        self.load = [load, ]  # create a list of one single load\n",
    "    \n",
    "    def add_load(self, new_load):\n",
    "        self.load = self.load + [new_load, ]  # add new_load to self.load\n",
    "        #self.load.append(new_load)\n",
    "    \n",
    "    def __add__(self, other):  # add loads from other cargo\n",
    "        self.load = self.load + other.load  # signature (self, other)\n",
    "        other.load = []\n",
    "    \n",
    "    def __radd__(self, other):  # adds load to another cargo\n",
    "        other.load = self.load + other.load\n",
    "        self.load = []\n",
    "    \n",
    "    def __call__(self, old_load):\n",
    "        if old_load in self.load:  # check first if item is loaded\n",
    "            self.load.remove(old_load)\n",
    "            print('Load %s was shipped.' % old_load)\n",
    "\n",
    "\n",
    "truck_1 = cargo('bananas')\n",
    "truck_2 = cargo('apples')\n",
    "\n",
    "print(truck_1.load, truck_2.load)\n",
    "\n",
    "truck_2 + truck_1\n",
    "#truck_2.add_cargo(truck_1)\n",
    "\n",
    "print(truck_1.load, truck_2.load)"
   ]
  },
  {
   "cell_type": "markdown",
   "metadata": {},
   "source": [
    "Of course all of the numerical operations can be defined, such as for example `__sub__`, `__mul__`, `__div__`, `__pow__` and many more."
   ]
  },
  {
   "cell_type": "markdown",
   "metadata": {},
   "source": [
    "Logical operations (i.e. comparisons) can be implemented using the following:\n",
    "```python\n",
    "__eq__ : ==\n",
    "__ne__ : !=\n",
    "__lt__ : <\n",
    "__gt__ : >\n",
    "__le__ : <=\n",
    "__ge__ : >=\n",
    "```"
   ]
  },
  {
   "cell_type": "markdown",
   "metadata": {},
   "source": [
    "Defining attribute assignment with `__setattr__`:"
   ]
  },
  {
   "cell_type": "code",
   "execution_count": 16,
   "metadata": {},
   "outputs": [],
   "source": [
    "class cargo():\n",
    "    def __init__(self, load='bananas'):\n",
    "        self.load = [load, ]  # create a list of one single load\n",
    "    \n",
    "    def __setattr__(self, name, value):\n",
    "        self.name = value  # CAREFUL: This is recursion!!!\n",
    "\n",
    "\n",
    "#truck_1 = cargo('bananas')"
   ]
  },
  {
   "cell_type": "code",
   "execution_count": 17,
   "metadata": {},
   "outputs": [
    {
     "name": "stdout",
     "output_type": "stream",
     "text": [
      "Defined new attribute load in <__main__.cargo object at 0x7f83367dd4d0>\n",
      "Defined new attribute melon in <__main__.cargo object at 0x7f83367dd4d0>\n"
     ]
    }
   ],
   "source": [
    "class cargo():\n",
    "    def __init__(self, load='bananas'):\n",
    "        self.load = [load, ]  # create a list of one single load\n",
    "    \n",
    "    def __setattr__(self, name, value):\n",
    "        self.__dict__[name] = value  # use dict of names\n",
    "        print('Defined new attribute %s in %s' % (name, self))\n",
    "\n",
    "\n",
    "truck_1 = cargo('bananas')\n",
    "truck_1.melon = 'melon'"
   ]
  },
  {
   "cell_type": "markdown",
   "metadata": {},
   "source": [
    "Defining the iteration behavior with `__iter__`:"
   ]
  },
  {
   "cell_type": "code",
   "execution_count": 18,
   "metadata": {},
   "outputs": [
    {
     "name": "stdout",
     "output_type": "stream",
     "text": [
      "bananas\n",
      "apples\n"
     ]
    }
   ],
   "source": [
    "class cargo():\n",
    "    def __init__(self, load='bananas'):\n",
    "        self.load = [load, ]  # create a list of one single load\n",
    "        \n",
    "    def __add__(self, other):  # add loads to self.load\n",
    "        self.load = self.load + other\n",
    "\n",
    "\n",
    "truck_1 = cargo('bananas')\n",
    "truck_1 + ['apples']\n",
    "\n",
    "for elm in truck_1.load:\n",
    "    print(elm)"
   ]
  },
  {
   "cell_type": "code",
   "execution_count": 19,
   "metadata": {},
   "outputs": [
    {
     "name": "stdout",
     "output_type": "stream",
     "text": [
      "bananas\n",
      "apples\n"
     ]
    }
   ],
   "source": [
    "class cargo():\n",
    "    def __init__(self, load='bananas'):\n",
    "        self.load = [load, ]  # create a list of one single load\n",
    "        \n",
    "    def __add__(self, other):  # add loads to self.load\n",
    "        self.load = self.load + other\n",
    "    \n",
    "    def __iter__(self):\n",
    "        return iter(self.load)\n",
    "\n",
    "\n",
    "truck_1 = cargo('bananas')\n",
    "truck_1 + ['apples']\n",
    "\n",
    "for elm in truck_1:\n",
    "    print(elm)"
   ]
  },
  {
   "cell_type": "markdown",
   "metadata": {},
   "source": [
    "## Limiting access to properties: Private and public attributes.\n",
    "\n",
    "In python, all class attributes are public by default. Public means the attribute can be accessed and redefined without limitations. A private attribute can generally not be accessed, unless special syntax is used."
   ]
  },
  {
   "cell_type": "code",
   "execution_count": 20,
   "metadata": {},
   "outputs": [
    {
     "data": {
      "text/plain": [
       "'Max'"
      ]
     },
     "execution_count": 20,
     "metadata": {},
     "output_type": "execute_result"
    }
   ],
   "source": [
    "class cargo():\n",
    "    def __init__(self, load='bananas', driver='Max'):\n",
    "        self.load = [load, ]  # create a list of one single load\n",
    "        \n",
    "        self.driver = driver\n",
    "\n",
    "\n",
    "truck_1 = cargo('bananas')\n",
    "truck_1.driver"
   ]
  },
  {
   "cell_type": "markdown",
   "metadata": {},
   "source": [
    "Unlimited access to all attributes is sometimes not desired. Theres three ways to make an attribute (at least partially) private:"
   ]
  },
  {
   "cell_type": "markdown",
   "metadata": {},
   "source": [
    "1. By convention:"
   ]
  },
  {
   "cell_type": "code",
   "execution_count": 21,
   "metadata": {},
   "outputs": [
    {
     "data": {
      "text/plain": [
       "'Max'"
      ]
     },
     "execution_count": 21,
     "metadata": {},
     "output_type": "execute_result"
    }
   ],
   "source": [
    "class cargo():\n",
    "    def __init__(self, load='bananas', driver='Max'):\n",
    "        self.load = [load, ]  # create a list of one single load\n",
    "        \n",
    "        self._driver = driver\n",
    "\n",
    "\n",
    "truck_1 = cargo('bananas')\n",
    "#truck_1.driver\n",
    "truck_1._driver"
   ]
  },
  {
   "cell_type": "code",
   "execution_count": 22,
   "metadata": {},
   "outputs": [
    {
     "data": {
      "text/plain": [
       "True"
      ]
     },
     "execution_count": 22,
     "metadata": {},
     "output_type": "execute_result"
    }
   ],
   "source": [
    "'_driver' in truck_1.__dir__()"
   ]
  },
  {
   "cell_type": "code",
   "execution_count": 23,
   "metadata": {},
   "outputs": [
    {
     "data": {
      "text/plain": [
       "'Mat'"
      ]
     },
     "execution_count": 23,
     "metadata": {},
     "output_type": "execute_result"
    }
   ],
   "source": [
    "truck_1._driver = 'Mat'\n",
    "\n",
    "truck_1._driver"
   ]
  },
  {
   "cell_type": "markdown",
   "metadata": {},
   "source": [
    "2. By obfuscation:"
   ]
  },
  {
   "cell_type": "code",
   "execution_count": 24,
   "metadata": {},
   "outputs": [],
   "source": [
    "class cargo():\n",
    "    def __init__(self, load='bananas', driver='Max'):\n",
    "        self.load = [load, ]  # create a list of one single load\n",
    "        \n",
    "        self.__driver = driver\n",
    "\n",
    "\n",
    "truck_1 = cargo('bananas')\n",
    "#truck_1.driver\n",
    "#truck_1.__driver"
   ]
  },
  {
   "cell_type": "code",
   "execution_count": 25,
   "metadata": {},
   "outputs": [
    {
     "data": {
      "text/plain": [
       "False"
      ]
     },
     "execution_count": 25,
     "metadata": {},
     "output_type": "execute_result"
    }
   ],
   "source": [
    "'__driver' in truck_1.__dir__()"
   ]
  },
  {
   "cell_type": "code",
   "execution_count": 26,
   "metadata": {},
   "outputs": [
    {
     "data": {
      "text/plain": [
       "0"
      ]
     },
     "execution_count": 26,
     "metadata": {},
     "output_type": "execute_result"
    }
   ],
   "source": [
    "truck_1.__driver = 0\n",
    "truck_1.__driver"
   ]
  },
  {
   "cell_type": "code",
   "execution_count": 27,
   "metadata": {},
   "outputs": [
    {
     "data": {
      "text/plain": [
       "True"
      ]
     },
     "execution_count": 27,
     "metadata": {},
     "output_type": "execute_result"
    }
   ],
   "source": [
    "'__driver' in truck_1.__dir__()"
   ]
  },
  {
   "cell_type": "markdown",
   "metadata": {},
   "source": [
    "3. By hand:"
   ]
  },
  {
   "cell_type": "code",
   "execution_count": 28,
   "metadata": {},
   "outputs": [
    {
     "name": "stdout",
     "output_type": "stream",
     "text": [
      "Max\n",
      "Mat\n"
     ]
    }
   ],
   "source": [
    "class cargo():\n",
    "    def __init__(self, load='bananas', driver='Max'):\n",
    "        self.load = [load, ]  # create a list of one single load\n",
    "        \n",
    "        self.__driver = driver\n",
    "    \n",
    "    @property\n",
    "    def driver(self):\n",
    "        return self.__driver\n",
    "    \n",
    "    @driver.getter\n",
    "    def driver(self):\n",
    "        return self.__driver\n",
    "    \n",
    "    @driver.setter\n",
    "    def driver(self, value):\n",
    "        self.__driver = value\n",
    "\n",
    "\n",
    "truck_1 = cargo('bananas')\n",
    "\n",
    "# Some tests\n",
    "print(truck_1.driver)\n",
    "\n",
    "truck_1.driver = 'Mat'\n",
    "print(truck_1.driver)"
   ]
  },
  {
   "cell_type": "code",
   "execution_count": 29,
   "metadata": {},
   "outputs": [
    {
     "name": "stdout",
     "output_type": "stream",
     "text": [
      "Driver is private. Returning None.\n",
      "None\n",
      "Driver is private. Passing.\n",
      "Driver is private. Returning None.\n",
      "None\n",
      "Max\n",
      "Mat\n"
     ]
    }
   ],
   "source": [
    "class cargo():\n",
    "    def __init__(self, load='bananas', driver='Max'):\n",
    "        self.load = [load, ]  # create a list of one single load\n",
    "        \n",
    "        self.__driver = driver\n",
    "        self.driver_is_private = True\n",
    "    \n",
    "    @property\n",
    "    def driver(self):\n",
    "        return self.__driver\n",
    "    \n",
    "    @driver.getter\n",
    "    def driver(self):\n",
    "        if self.driver_is_private:\n",
    "            print('Driver is private. Returning None.')\n",
    "            return None\n",
    "        else:\n",
    "            return self.__driver\n",
    "    \n",
    "    @driver.setter\n",
    "    def driver(self, value):        \n",
    "        if self.driver_is_private:\n",
    "            print('Driver is private. Passing.')\n",
    "            pass\n",
    "        else:\n",
    "            self.__driver = value\n",
    "\n",
    "\n",
    "truck_1 = cargo('bananas')\n",
    "\n",
    "# Some tests\n",
    "print(truck_1.driver)\n",
    "\n",
    "truck_1.driver = 'Mat'\n",
    "print(truck_1.driver)\n",
    "\n",
    "truck_1.driver_is_private = False\n",
    "print(truck_1.driver)\n",
    "\n",
    "truck_1.driver = 'Mat'\n",
    "print(truck_1.driver)"
   ]
  },
  {
   "cell_type": "markdown",
   "metadata": {},
   "source": [
    "## Modifying functions and methods using decorators.\n",
    "\n",
    "Decorators are nothing more than functions, that take a function as input and return a modified version of it. They are therefore not exactly a new concept at this point. What makes them special is the syntax that can be used, and that a handful of built-in decorators can be very handy when used with class methods."
   ]
  },
  {
   "cell_type": "markdown",
   "metadata": {},
   "source": [
    "The \"big three\" decorators used in OOP are:\n",
    "```python\n",
    "staticmethod\n",
    "classmethod\n",
    "property\n",
    "```"
   ]
  },
  {
   "cell_type": "markdown",
   "metadata": {},
   "source": [
    "1. `@staticmethod`: Using methods without referencing intances."
   ]
  },
  {
   "cell_type": "code",
   "execution_count": 30,
   "metadata": {},
   "outputs": [
    {
     "name": "stdout",
     "output_type": "stream",
     "text": [
      "['bananas']\n",
      "['bananas']\n"
     ]
    }
   ],
   "source": [
    "class cargo():\n",
    "    def __init__(self, load='bananas', driver='Max'):\n",
    "        self.load = [load, ]  # create a list of one single load\n",
    "    \n",
    "    def print_load(self, load):\n",
    "        print(load)\n",
    "\n",
    "\n",
    "# Some tests\n",
    "truck_1 = cargo('bananas')\n",
    "truck_1.print_load(truck_1.load)\n",
    "\n",
    "C = cargo\n",
    "C.print_load(C, truck_1.load)"
   ]
  },
  {
   "cell_type": "code",
   "execution_count": 31,
   "metadata": {},
   "outputs": [
    {
     "name": "stdout",
     "output_type": "stream",
     "text": [
      "['bananas']\n",
      "['bananas']\n"
     ]
    }
   ],
   "source": [
    "class cargo():\n",
    "    def __init__(self, load='bananas', driver='Max'):\n",
    "        self.load = [load, ]  # create a list of one single load\n",
    "    \n",
    "    @staticmethod\n",
    "    def print_load(load):\n",
    "        print(load)\n",
    "\n",
    "\n",
    "# Some tests\n",
    "truck_1 = cargo('bananas')\n",
    "truck_1.print_load(truck_1.load)\n",
    "\n",
    "C = cargo\n",
    "C.print_load(truck_1.load)"
   ]
  },
  {
   "cell_type": "markdown",
   "metadata": {},
   "source": [
    "2. `@classmethod`: Using methods with reference to a class, instead of an instance."
   ]
  },
  {
   "cell_type": "code",
   "execution_count": 32,
   "metadata": {},
   "outputs": [
    {
     "name": "stdout",
     "output_type": "stream",
     "text": [
      "Disclaimer-message.\n",
      "New disclaimer\n",
      "Disclaimer-message.\n"
     ]
    }
   ],
   "source": [
    "class cargo():\n",
    "    disclaimer = \"Disclaimer-message.\"\n",
    "    \n",
    "    def __init__(self, load='bananas', driver='Max'):\n",
    "        self.load = [load, ]  # create a list of one single load\n",
    "    \n",
    "    def print_disclaimer(self):\n",
    "        print(self.disclaimer)\n",
    "\n",
    "\n",
    "# Some tests\n",
    "truck_1 = cargo('bananas')\n",
    "truck_1.print_disclaimer()\n",
    "\n",
    "truck_1.disclaimer = \"New disclaimer\"\n",
    "truck_1.print_disclaimer()\n",
    "\n",
    "C = cargo\n",
    "C.print_disclaimer(C)"
   ]
  },
  {
   "cell_type": "code",
   "execution_count": 33,
   "metadata": {},
   "outputs": [
    {
     "name": "stdout",
     "output_type": "stream",
     "text": [
      "Disclaimer-message.\n",
      "Disclaimer-message.\n",
      "Disclaimer-message.\n"
     ]
    }
   ],
   "source": [
    "class cargo():\n",
    "    disclaimer = \"Disclaimer-message.\"\n",
    "    \n",
    "    def __init__(self, load='bananas', driver='Max'):\n",
    "        self.load = [load, ]  # create a list of one single load\n",
    "    \n",
    "    @classmethod\n",
    "    def print_disclaimer(c):\n",
    "        print(c.disclaimer)\n",
    "\n",
    "\n",
    "# Some tests\n",
    "truck_1 = cargo('bananas')\n",
    "truck_1.print_disclaimer()\n",
    "\n",
    "truck_1.disclaimer = \"New disclaimer\"\n",
    "truck_1.print_disclaimer()\n",
    "\n",
    "C = cargo\n",
    "C.print_disclaimer()"
   ]
  },
  {
   "cell_type": "markdown",
   "metadata": {},
   "source": [
    "3. `@property`: Quick and easy definition of setting and getting rules for one attribute."
   ]
  },
  {
   "cell_type": "code",
   "execution_count": 34,
   "metadata": {},
   "outputs": [
    {
     "name": "stdout",
     "output_type": "stream",
     "text": [
      "Max Michelson\n",
      "Mat Mattison\n"
     ]
    }
   ],
   "source": [
    "class cargo():    \n",
    "    def __init__(self, load='bananas', driver_firstname='Max', \n",
    "                driver_lastname='Michelson'):\n",
    "        self.load = [load, ]  # create a list of one single load\n",
    "        self.driver_firstname = driver_firstname\n",
    "        self.driver_lastname = driver_lastname\n",
    "    \n",
    "    def driver_full_name(self):\n",
    "        return self.driver_firstname + ' ' + self.driver_lastname\n",
    "\n",
    "\n",
    "# Some tests\n",
    "truck_1 = cargo('bananas')\n",
    "print(truck_1.driver_full_name())\n",
    "\n",
    "truck_1.driver_full_name = 'Mat Mattison'\n",
    "print(truck_1.driver_full_name)"
   ]
  },
  {
   "cell_type": "code",
   "execution_count": 35,
   "metadata": {},
   "outputs": [
    {
     "name": "stdout",
     "output_type": "stream",
     "text": [
      "Max Michelson\n"
     ]
    }
   ],
   "source": [
    "class cargo():    \n",
    "    def __init__(self, load='bananas', driver_firstname='Max', \n",
    "                driver_lastname='Michelson'):\n",
    "        self.load = [load, ]  # create a list of one single load\n",
    "        self.driver_firstname = driver_firstname\n",
    "        self.driver_lastname = driver_lastname\n",
    "    \n",
    "    @property\n",
    "    def driver_full_name(self):\n",
    "        return self.driver_firstname + ' ' + self.driver_lastname\n",
    "\n",
    "\n",
    "# Some tests\n",
    "truck_1 = cargo('bananas')\n",
    "print(truck_1.driver_full_name)\n",
    "\n",
    "#truck_1.driver_full_name = 'Mat Mattison'\n",
    "#print(truck_1.driver_full_name)"
   ]
  },
  {
   "cell_type": "code",
   "execution_count": 36,
   "metadata": {},
   "outputs": [
    {
     "name": "stdout",
     "output_type": "stream",
     "text": [
      "Max Michelson\n",
      "Mat Mattison\n"
     ]
    }
   ],
   "source": [
    "class cargo():    \n",
    "    def __init__(self, load='bananas', driver_firstname='Max', \n",
    "                driver_lastname='Michelson'):\n",
    "        self.load = [load, ]  # create a list of one single load\n",
    "        self.driver_firstname = driver_firstname\n",
    "        self.driver_lastname = driver_lastname\n",
    "    \n",
    "    @property\n",
    "    def driver_full_name(self):\n",
    "        return self.driver_firstname + ' ' + self.driver_lastname\n",
    "    \n",
    "    @driver_full_name.setter\n",
    "    def driver_full_name(self, full_name):\n",
    "        first, last = full_name.split(' ')\n",
    "        self.driver_firstname = first\n",
    "        self.driver_lastname = last\n",
    "\n",
    "\n",
    "# Some tests\n",
    "truck_1 = cargo('bananas')\n",
    "print(truck_1.driver_full_name)\n",
    "\n",
    "truck_1.driver_full_name = 'Mat Mattison'\n",
    "print(truck_1.driver_full_name)"
   ]
  },
  {
   "cell_type": "code",
   "execution_count": null,
   "metadata": {},
   "outputs": [],
   "source": []
  }
 ],
 "metadata": {
  "kernelspec": {
   "display_name": "pyKIS",
   "language": "python",
   "name": "pykis"
  },
  "language_info": {
   "codemirror_mode": {
    "name": "ipython",
    "version": 3
   },
   "file_extension": ".py",
   "mimetype": "text/x-python",
   "name": "python",
   "nbconvert_exporter": "python",
   "pygments_lexer": "ipython3",
   "version": "3.7.6"
  }
 },
 "nbformat": 4,
 "nbformat_minor": 4
}
